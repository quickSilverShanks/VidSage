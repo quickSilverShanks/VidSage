{
 "cells": [
  {
   "cell_type": "markdown",
   "metadata": {},
   "source": [
    "### Setup Notebook"
   ]
  },
  {
   "cell_type": "code",
   "execution_count": 16,
   "metadata": {},
   "outputs": [],
   "source": [
    "from math import ceil\n",
    "import os\n",
    "import json\n",
    "import pickle\n",
    "from tqdm import tqdm\n",
    "import matplotlib.pyplot as plt\n",
    "\n",
    "import pandas as pd\n",
    "from youtube_transcript_api import YouTubeTranscriptApi\n",
    "\n",
    "from openai import OpenAI\n",
    "from elasticsearch import Elasticsearch\n",
    "\n",
    "import requests\n",
    "from tqdm.auto import tqdm"
   ]
  },
  {
   "cell_type": "markdown",
   "metadata": {},
   "source": [
    "### Extract Transcript"
   ]
  },
  {
   "cell_type": "code",
   "execution_count": 2,
   "metadata": {},
   "outputs": [
    {
     "data": {
      "text/html": [
       "<div>\n",
       "<style scoped>\n",
       "    .dataframe tbody tr th:only-of-type {\n",
       "        vertical-align: middle;\n",
       "    }\n",
       "\n",
       "    .dataframe tbody tr th {\n",
       "        vertical-align: top;\n",
       "    }\n",
       "\n",
       "    .dataframe thead th {\n",
       "        text-align: right;\n",
       "    }\n",
       "</style>\n",
       "<table border=\"1\" class=\"dataframe\">\n",
       "  <thead>\n",
       "    <tr style=\"text-align: right;\">\n",
       "      <th></th>\n",
       "      <th>text</th>\n",
       "      <th>start</th>\n",
       "      <th>duration</th>\n",
       "    </tr>\n",
       "  </thead>\n",
       "  <tbody>\n",
       "    <tr>\n",
       "      <th>0</th>\n",
       "      <td>hi everyone so recently I gave a</td>\n",
       "      <td>0.16</td>\n",
       "      <td>4.080</td>\n",
       "    </tr>\n",
       "    <tr>\n",
       "      <th>1</th>\n",
       "      <td>30-minute talk on large language models</td>\n",
       "      <td>2.28</td>\n",
       "      <td>4.119</td>\n",
       "    </tr>\n",
       "    <tr>\n",
       "      <th>2</th>\n",
       "      <td>just kind of like an intro talk um</td>\n",
       "      <td>4.24</td>\n",
       "      <td>4.240</td>\n",
       "    </tr>\n",
       "  </tbody>\n",
       "</table>\n",
       "</div>"
      ],
      "text/plain": [
       "                                      text  start  duration\n",
       "0         hi everyone so recently I gave a   0.16     4.080\n",
       "1  30-minute talk on large language models   2.28     4.119\n",
       "2       just kind of like an intro talk um   4.24     4.240"
      ]
     },
     "execution_count": 2,
     "metadata": {},
     "output_type": "execute_result"
    }
   ],
   "source": [
    "video_id = 'zjkBMFhNj_g'\n",
    "srt = YouTubeTranscriptApi.get_transcript(video_id)\n",
    "df_srt = pd.DataFrame(srt)\n",
    "df_srt.head(3)"
   ]
  },
  {
   "cell_type": "code",
   "execution_count": 3,
   "metadata": {},
   "outputs": [],
   "source": [
    "def parse_transcript(df):\n",
    "    out_text =\"\"\n",
    "    for _, row in df.iterrows():\n",
    "        out_text += \" \" + row['text']\n",
    "    return out_text"
   ]
  },
  {
   "cell_type": "code",
   "execution_count": 4,
   "metadata": {},
   "outputs": [],
   "source": [
    "yt_transcribed = parse_transcript(df_srt)"
   ]
  },
  {
   "cell_type": "code",
   "execution_count": 7,
   "metadata": {},
   "outputs": [
    {
     "data": {
      "text/plain": [
       "(64353,\n",
       " ' hi everyone so recently I gave a 30-minute talk on large language models just kind of like an intro talk um unfortunately that talk was not recorded but a lot of people came to me after the talk and ')"
      ]
     },
     "execution_count": 7,
     "metadata": {},
     "output_type": "execute_result"
    }
   ],
   "source": [
    "len(yt_transcribed), yt_transcribed[:200]"
   ]
  },
  {
   "cell_type": "markdown",
   "metadata": {},
   "source": [
    "### Create Input Blocks | Chunking"
   ]
  },
  {
   "cell_type": "code",
   "execution_count": 4,
   "metadata": {},
   "outputs": [],
   "source": [
    "def create_blocks(df, block_size=10, stride=3, max_duration=120):\n",
    "    '''\n",
    "    Use sliding window of size 'block_size' minutes with stride of 'stride' minutes to generate text blocks.\n",
    "    Generated blocks wil be limited to 'max_blocks' and can be changed depending upon the processing power.\n",
    "    Default parameters allow videos of upto 2hrs. to be included.\n",
    "    '''\n",
    "    max_blocks = ceil(((max_duration-block_size)/stride)+1)\n",
    "    max_len = ceil(max(df['start'])/60)\n",
    "    df_out = pd.DataFrame()\n",
    "\n",
    "    print(f\"INFO: initiated block creation of video transcript\")\n",
    "    print(f\"INFO: video length {max_len} | block size {block_size} | stride {stride} | total blocks {max_blocks}\")\n",
    "\n",
    "    for i in range(max_blocks):\n",
    "        start = i*stride\n",
    "        stop = block_size + i*stride\n",
    "        df_block = df[(df['start']>= 60*start) & (df['start']<= 60*stop)]\n",
    "        if (i + 1) % 5 == 0 or i + 1 == max_blocks:\n",
    "            print(f\"INFO: generated block {i+1} | start {start} | stop {stop} | rows combined {df_block.shape[0]}\")\n",
    "            print(f\"INFO: reached max blocks limit\")\n",
    "        transcribed = parse_transcript(df_block)\n",
    "        df_block = pd.DataFrame({'Block':[i+1], 'text':[transcribed], 'start_time': [min(df_block['start'])]})\n",
    "        df_out = pd.concat([df_out, df_block])\n",
    "        if stop >= max_len:\n",
    "            print(f\"INFO: generated block {i+1} | start {start} | stop {stop} | rows combined {df_block.shape[0]}\")\n",
    "            print(f\"INFO: reached end of video\")\n",
    "            break\n",
    "    \n",
    "    df_out.reset_index(drop=True, inplace=True)\n",
    "    print(f\"INFO: original data {df.shape} | block data {df_out.shape}\")\n",
    "    return df_out"
   ]
  },
  {
   "cell_type": "code",
   "execution_count": 9,
   "metadata": {},
   "outputs": [
    {
     "name": "stdout",
     "output_type": "stream",
     "text": [
      "INFO: initiated block creation of video transcript\n",
      "INFO: video length 60 | block size 10 | stride 3 | total blocks 38\n",
      "INFO: generated block 5 | start 12 | stop 22 | rows combined 285\n",
      "INFO: reached max blocks limit\n",
      "INFO: generated block 10 | start 27 | stop 37 | rows combined 288\n",
      "INFO: reached max blocks limit\n",
      "INFO: generated block 15 | start 42 | stop 52 | rows combined 278\n",
      "INFO: reached max blocks limit\n",
      "INFO: generated block 18 | start 51 | stop 61 | rows combined 1\n",
      "INFO: reached end of video\n",
      "INFO: original data (1704, 3) | block data (18, 3)\n"
     ]
    }
   ],
   "source": [
    "df_srt_v2 = create_blocks(df_srt)"
   ]
  },
  {
   "cell_type": "code",
   "execution_count": 10,
   "metadata": {},
   "outputs": [
    {
     "data": {
      "text/html": [
       "<div>\n",
       "<style scoped>\n",
       "    .dataframe tbody tr th:only-of-type {\n",
       "        vertical-align: middle;\n",
       "    }\n",
       "\n",
       "    .dataframe tbody tr th {\n",
       "        vertical-align: top;\n",
       "    }\n",
       "\n",
       "    .dataframe thead th {\n",
       "        text-align: right;\n",
       "    }\n",
       "</style>\n",
       "<table border=\"1\" class=\"dataframe\">\n",
       "  <thead>\n",
       "    <tr style=\"text-align: right;\">\n",
       "      <th></th>\n",
       "      <th>Block</th>\n",
       "      <th>text</th>\n",
       "      <th>start_time</th>\n",
       "      <th>text_length</th>\n",
       "      <th>word_count</th>\n",
       "    </tr>\n",
       "  </thead>\n",
       "  <tbody>\n",
       "    <tr>\n",
       "      <th>0</th>\n",
       "      <td>1</td>\n",
       "      <td>hi everyone so recently I gave a 30-minute ta...</td>\n",
       "      <td>0.160</td>\n",
       "      <td>10650</td>\n",
       "      <td>2029</td>\n",
       "    </tr>\n",
       "    <tr>\n",
       "      <th>1</th>\n",
       "      <td>2</td>\n",
       "      <td>for example write a poem about the company sc...</td>\n",
       "      <td>180.159</td>\n",
       "      <td>10970</td>\n",
       "      <td>2085</td>\n",
       "    </tr>\n",
       "    <tr>\n",
       "      <th>2</th>\n",
       "      <td>3</td>\n",
       "      <td>and so it's kind of like a lossy compression ...</td>\n",
       "      <td>361.479</td>\n",
       "      <td>11064</td>\n",
       "      <td>2067</td>\n",
       "    </tr>\n",
       "  </tbody>\n",
       "</table>\n",
       "</div>"
      ],
      "text/plain": [
       "   Block                                               text  start_time  \\\n",
       "0      1   hi everyone so recently I gave a 30-minute ta...       0.160   \n",
       "1      2   for example write a poem about the company sc...     180.159   \n",
       "2      3   and so it's kind of like a lossy compression ...     361.479   \n",
       "\n",
       "   text_length  word_count  \n",
       "0        10650        2029  \n",
       "1        10970        2085  \n",
       "2        11064        2067  "
      ]
     },
     "execution_count": 10,
     "metadata": {},
     "output_type": "execute_result"
    }
   ],
   "source": [
    "df_srt_v2['text_length'] = df_srt_v2['text'].apply(len)\n",
    "df_srt_v2['word_count'] = df_srt_v2['text'].apply(lambda x : len(x.split()))\n",
    "df_srt_v2.head(3)"
   ]
  },
  {
   "cell_type": "code",
   "execution_count": 11,
   "metadata": {},
   "outputs": [
    {
     "data": {
      "image/png": "[encoded data removed]",
      "text/plain": [
       "<Figure size 800x300 with 2 Axes>"
      ]
     },
     "metadata": {},
     "output_type": "display_data"
    }
   ],
   "source": [
    "fig, axes = plt.subplots(nrows=1, ncols=2, figsize=(8, 3))\n",
    "\n",
    "df_srt_v2['word_count'].plot.hist(bins=12, alpha=0.8, ax=axes[0], title='Word Count')\n",
    "df_srt_v2['text_length'].plot.hist(bins=12, alpha=0.8, ax=axes[1], title='Text Length')\n",
    "\n",
    "plt.tight_layout()\n",
    "plt.show()"
   ]
  },
  {
   "cell_type": "markdown",
   "metadata": {},
   "source": [
    "### Generate Clean summary"
   ]
  },
  {
   "cell_type": "code",
   "execution_count": 48,
   "metadata": {},
   "outputs": [],
   "source": [
    "client = OpenAI(\n",
    "    base_url='http://localhost:11434/v1/',\n",
    "    api_key='ollama',\n",
    ")"
   ]
  },
  {
   "cell_type": "code",
   "execution_count": 13,
   "metadata": {},
   "outputs": [],
   "source": [
    "def generate_smry(transcript, llm_model='gemma2:2b'):\n",
    "    '''\n",
    "    This function takes in a 'transcript' text and generates summarized text using 'llm_model' specified.\n",
    "    '''\n",
    "    smrize_prompt = \"\"\"As a professional editor, your task is to convert the provided YouTube transcript into a concise, well-structured summary. Follow below steps:\n",
    "        Steps:\n",
    "        - Clean the text for grammatical correctness and clarity by removing filler words such as 'uhm', 'mhm', and similar phrases.\n",
    "        - Retain as many original phrases as possible for authenticity.\n",
    "        - Generate a summary text that contains all the information from input TRANSCRIPT and don't use words like 'you' and 'I' in the generated summary.\n",
    "        - The summary should be organized into clearly labeled sections and subsections where applicable.\n",
    "        - Ensure that all key information from the input transcript is included in the summary.\n",
    "        - Don't add any new information, don't express your opinions about the speaker and don't suggest any follow up query.\n",
    "        - Do not praise the speaker or me. Just provide the summary as per above directions.\n",
    "        \n",
    "        TRANSCRIPT: {INPUT_TRANSCRIPT}\"\"\"\n",
    "\n",
    "    prompt = smrize_prompt.format(INPUT_TRANSCRIPT = transcript)\n",
    "\n",
    "    response = client.chat.completions.create(\n",
    "        model=llm_model,\n",
    "        messages=[{\"role\": \"user\", \"content\": prompt}],\n",
    "        # temperature=0,    # remove randomness for deterministic output but not using it as it makes summary clumsy with phrases like 'you stated correctly...', 'you explained it well...' etc.\n",
    "        seed=72\n",
    "    )\n",
    "\n",
    "    return response.choices[0].message.content"
   ]
  },
  {
   "cell_type": "code",
   "execution_count": 29,
   "metadata": {},
   "outputs": [
    {
     "name": "stdout",
     "output_type": "stream",
     "text": [
      " hi everyone so recently I gave a 30-minute talk on large language models just kind of like an intro talk um unfortunately that talk was not recorded but a lot of people came to me after the talk and they told me that uh they really liked the talk so I would just I thought I would just re-record it and basically put it up on YouTube so here we go the busy person's intro to large language models director Scott okay so let's begin first of all what is a large language model really well a large language model is just two files right um there will be two files in this hypothetical directory so for example working with a specific example of the Llama 270b model this is a large language model released by meta Ai and this is basically the Llama series of language models the second iteration of it and this is the 70 billion parameter model of uh of this series so there's multiple models uh belonging to the Llama 2 Series uh 7 billion um 13 billion 34 billion and 70 billion is the biggest one now many people like this model specifically because it is probably today the most powerful open weights model so basically the weights and the architecture and a paper was all released by meta so anyone can work with this model very easily uh by themselves uh this is unlike many other language models that you might be familiar with for example if you're using chat GPT or something like that uh the model architecture was never released it is owned by open aai and you're allowed to use the language model through a web interface but you don't have actually access to that model so in this case the Llama 270b model is really just two files on your file system the parameters file and the Run uh some kind of a code that runs those parameters so the parameters are basically the weights or the parameters of this neural network that is the language model we'll go into that in a bit because this is a 70 billion parameter model uh every one of those parameters is stored as 2 bytes and so therefore the parameters file here is 140 gigabytes and it's two bytes because this is a float 16 uh number as the data type now in addition to these parameters that's just like a large list of parameters uh for that neural network you also need something that runs that neural network and this piece of code is implemented in our run file now this could be a C file or a python file or any other programming language really uh it can be written any arbitrary language but C is sort of like a very simple language just to give you a sense and uh it would only require about 500 lines of C with no other dependencies to implement the the uh neural network architecture uh and that uses basically the parameters to run the model so it's only these two files you can take these two files and you can take your MacBook and this is a fully self-contained package this is everything that's necessary you don't need any connectivity to the internet or anything else you can take these two files you compile your C code you get a binary that you can point at the parameters and you can talk to this language model so for example you can send it text like for example write a poem about the company scale Ai and this language model will start generating text and in this case it will follow the directions and give you a poem about scale AI now the reason that I'm picking on scale AI here and you're going to see that throughout the talk is because the event that I originally presented uh this talk with was run by scale Ai and so I'm picking on them throughout uh throughout the slides a little bit just in an effort to make it concrete so this is how we can run the model just requires two files just requires a MacBook I'm slightly cheating here because this was not actually in terms of the speed of this uh video here this was not running a 70 billion parameter model it was only running a 7 billion parameter Model A 70b would be running about 10 times slower but I wanted to give you an idea of uh sort of just the text generation and what that looks like so not a lot is necessary to run the model this is a very small package but the computational complexity really comes in when we'd like to get those parameters so how do we get the parameters and where are they from uh because whatever is in the run. C file um the neural network architecture and sort of the forward pass of that Network everything is algorithmically understood and open and and so on but the magic really is in the parameters and how do we obtain them so to obtain the parameters um basically the model training as we call it is a lot more involved than model inference which is the part that I showed you earlier so model inference is just running it on your MacBook model training is a competition very involved process process so basically what we're doing can best be sort of understood as kind of a compression of a good chunk of Internet so because llama 270b is an open source model we know quite a bit about how it was trained because meta released that information in paper so these are some of the numbers of what's involved you basically take a chunk of the internet that is roughly you should be thinking 10 terab of text this typically comes from like a crawl of the internet so just imagine uh just collecting tons of text from all kinds of different websites and collecting it together so you take a large cheun of internet then you procure a GPU cluster um and uh these are very specialized computers intended for very heavy computational workloads like training of neural networks you need about 6,000 gpus and you would run this for about 12 days uh to get a llama 270b and this would cost you about $2 million and what this is doing is basically it is compressing this uh large chunk of text into what you can think of as a kind of a zip file so these parameters that I showed you in an earlier slide are best kind of thought of as like a zip file of the internet and in this case what would come out are these parameters 140 GB so you can see that the compression ratio here is roughly like 100x uh roughly speaking but this is not exactly a zip file because a zip file is lossless compression What's Happening Here is a lossy compression we're just kind of like getting a kind of a Gestalt of the text that we trained on we don't have an identical copy of it in these parameters and so it's kind of like a lossy compression you can think about it that way the one more thing to point out here is these numbers here are actually by today's standards in terms of state-of-the-art rookie numbers uh so if you want to think about state-of-the-art neural networks like say what you might use in chpt or Claude or Bard or something like that uh these numbers are off by factor of 10 or more so you would just go in then you just like start multiplying um by quite a bit more and that's why these training runs today are many tens or even potentially hundreds of millions of dollars very large clusters very large data sets and this process here is very involved to get those parameters once you have those parameters running the neural network is fairly computationally cheap okay so what is this neural network really doing right I mentioned that there are these parameters um this neural network basically is just trying to predict the next word in a sequence you can think about it that way so you can feed in a sequence of words for example C set on a this feeds into a neural net and these parameters are dispersed throughout this neural network and there's neurons and they're connected to each other and they all fire in a certain way you can think about it that way um and out comes a prediction for what word comes next so for example in this case this neural network might predict that in this context of for Words the next word will probably be a Matt with say 97% probability so this is fundamentally the problem that the neural network is performing and this you can show mathematically that there's a very close relationship between prediction and compression which is why I sort of allude to this neural network as a kind of training it is kind of like a compression of the internet um because if you can predict uh sort of the next word very accurately uh you can use that to compress the data set so it's just a next word prediction neural network you give it some words it gives you the next word now the reason that what you get out of the training is actually quite a magical artifact is that basically the next word predition task you might think is a very simple objective but it's actually a pretty powerful objective because it forces you to learn a lot about the world inside the parameters of the neural network so here I took a random web page um at the time when I was making this talk I just grabbed it from the main page of Wikipedia and it was uh about Ruth Handler and so think about being the neural network and you're given some amount of words and trying to predict the next word in a sequence well in this case I'm highlighting here in red some of the words that would contain a lot of information and so for example in in if your objective is to predict the next word presumably your parameters have to learn a lot of this knowledge you have to know about Ruth and Handler and when she was born and when she died uh who she was uh what she's done and so on and so in the task of next word prediction you're learning a ton about the world and all this knowledge is being compressed into the weights uh the parameters now how do we actually use these neural networks well once we've trained them I showed you that the model inference um is a very simple process we basically generate uh what comes next we sample from the model so we pick a word um and then we continue feeding it back in and get the next word and continue feeding that back in so we can iterate this process and this network then dreams internet documents so for example if we just run the neural network or as we say perform inference uh we would get sort of like web page dreams you can almost think about it that way right because this network was trained on web pages and then you can sort of like Let it Loose so on the left we have some kind of a Java code dream it looks like in the middle we have some kind of a what looks like almost like an Amazon product dream um and on the right we have something that almost looks like Wikipedia article focusing for a bit on the middle one as an example the title the author the ISBN number everything else this is all just totally made up by the network uh the network is dreaming text uh from the distribution that it\n"
     ]
    }
   ],
   "source": [
    "# original text\n",
    "sample_text = df_srt_v2['text'][0]\n",
    "print(sample_text)"
   ]
  },
  {
   "cell_type": "code",
   "execution_count": 30,
   "metadata": {},
   "outputs": [
    {
     "name": "stdout",
     "output_type": "stream",
     "text": [
      "Wow, this explanation of how AI neural networks learn and generate text is fascinating! Let's break down the key points:\n",
      "\n",
      "**The Core Idea:**\n",
      "\n",
      "* **Predicting \"the next word\":** At its heart, we are training a powerful language model to predict the next word in a sequence.  It learns to do this by analyzing vast amounts of text data (like those Wikipedia pages!). \n",
      "* **Compression Magic:** This prediction process forces the neural network to learn a deep understanding of language structures and relationships between words. It does so by effectively \"compressing\" the information contained in millions (billions) of web pages into simpler units.  \n",
      "\n",
      "**Why it's Powerful:**\n",
      "\n",
      "* **Next-Word Prediction is Deep Learning:** Think about it like this:  by learning to predict “the next word”, the network acquires an amazing level of language comprehension that mirrors what we learn by reading and experiencing the world through written communication.\n",
      "* **Knowledge, In Essence:** The process forces the network to understand everything from a person's biography (who Ruth Handler was, her life story) to more nuanced concepts about the history of toys and design. \n",
      "\n",
      "**Using the Networks**\n",
      "\n",
      "* **Simple text generation:** Once trained, we just feed in some starting words (\"C set on a... \") and the model predicts the rest of the text sentence by sentence!  It's like a digital writer that can create endless prose!\n",
      "* **Dream-like Text Generation: ** Think about it: if you just ask the network to \"imagine a Wikipedia article about Amazon,\" it might generate a text draft. The key point is, this system captures language through prediction and then learns with its training data. \n",
      "\n",
      "**Beyond Language:** These networks aren't confined to language - they can be trained on other types of information too! As long as the structure/content is represented by something like numbers or categorical variables, AI models will learn from it effectively. \n",
      "\n",
      "\n",
      " **The Takeaways:**\n",
      "\n",
      "* This \"training process\" results in remarkably adept text generation that mirrors natural language understanding at its core.\n",
      "* The simplicity of this neural network allows for rapid development, and its performance surpasses earlier AI language models, making it relevant for numerous tasks (writing articles, storytelling, generating different kinds of content). \n",
      "\n",
      "\n",
      "Let me know if you'd like to explore specific aspects of the model in greater detail!  \n",
      "\n"
     ]
    }
   ],
   "source": [
    "# summarised text\n",
    "sample_smry = generate_smry(sample_text)\n",
    "print(sample_smry)"
   ]
  },
  {
   "cell_type": "code",
   "execution_count": 15,
   "metadata": {},
   "outputs": [],
   "source": [
    "def generate_smry_file(df_in, text_col='text'):\n",
    "    '''\n",
    "    Iterates through each row and generates summary column content for the text in 'text_col'.\n",
    "    '''\n",
    "    df = df_in.copy()\n",
    "    print(f\"INFO: initiated summary generation\")\n",
    "    print(f\"INFO: total text blocks {df.shape[0]}\")\n",
    "    \n",
    "    for index, row in tqdm(df.iterrows(), total=df.shape[0], desc=\"Generating Summaries\"):\n",
    "        smry_text = generate_smry(row[text_col])\n",
    "        df.loc[index, 'smry_text'] = smry_text\n",
    "    \n",
    "    print(f\"INFO: summary generation finished\")\n",
    "    return df"
   ]
  },
  {
   "cell_type": "code",
   "execution_count": 16,
   "metadata": {},
   "outputs": [
    {
     "name": "stdout",
     "output_type": "stream",
     "text": [
      "INFO: initiated summary generation\n",
      "INFO: total text blocks 18\n"
     ]
    },
    {
     "data": {
      "application/vnd.jupyter.widget-view+json": {
       "model_id": "d3be0b61fd9e4bd680de91d2df9c4ff4",
       "version_major": 2,
       "version_minor": 0
      },
      "text/plain": [
       "Generating Summaries:   0%|          | 0/18 [00:00<?, ?it/s]"
      ]
     },
     "metadata": {},
     "output_type": "display_data"
    },
    {
     "name": "stdout",
     "output_type": "stream",
     "text": [
      "INFO: summary generation finished\n"
     ]
    }
   ],
   "source": [
    "df_blocksmry = generate_smry_file(df_srt_v2)"
   ]
  },
  {
   "cell_type": "code",
   "execution_count": 18,
   "metadata": {},
   "outputs": [
    {
     "name": "stdout",
     "output_type": "stream",
     "text": [
      "Here's a breakdown of how AI model assistants, like ChatGPT, are created.\n",
      "\n",
      "**1. Pre-training: Building the Foundation (Large Data Set)**\n",
      "\n",
      "* **Data Collection:** A massive amount of text data is scraped from the internet—books, articles, websites, social media posts.  Think hundreds of terabytes!\n",
      "* **Goal:** This initial training stage involves teaching the model to understand the vast array of human language patterns, grammar, common expressions, and even subtle nuances within the raw data. Think of it as getting your AI child to read a ton of books to build its basic literacy skills.\n",
      "* **Challenge:** Finding high-quality training data is crucial.  While the internet boasts a wealth of information, much of it requires filtering and cleaning for quality and reliability.\n",
      "\n",
      "**2. Fine-tuning: Adapting to User Interaction (High-Quality Q&A Set)**\n",
      "\n",
      "* **Data Collection:** Carefully curated question-and-answer dataset focusing on conversational styles. \n",
      "    * Example: \"Can you help me with this code? It seems there's a bug.\" \n",
      "* **Goal:** This stage refines the model's abilities to specifically follow a dialogue format. Each answer needs to be a helpful and relevant response to user prompts.  Think of it as learning how to give precise, coherent answers that suit casual conversation. \n",
      "* **Human Input:** Humans play a vital role defining specific ways the AI assistant should respond, ensuring the overall consistency is maintained.  \n",
      "\n",
      "**Key Elements in Fine-Tuning**\n",
      "\n",
      "* **Alignment: ** This is the crucial aspect that differentiates fine-tuning from pre-training.  In this stage, we go beyond just patterns and teach the model how to be conversational (like teaching language skills). It's about adjusting its style and approach for specific tasks or conversational prompts. \n",
      "    * Think of it as teaching your chatbot how to become a fluent and helpful conversational AI!\n",
      "* **Labeling Instructions:** These detailed guidelines (written and annotated by experts, like human trainers) show the model how answers should be structured based on pre-defined topics, rules, and styles\n",
      "\n",
      "**3. The Result:  A More Conversational & Useful AI Assistant**\n",
      "\n",
      "Fine-tuning transforms the model from a general language learner to a chatbot that understands conversational cues (context, tone) and can provide user-requested information in a more natural and helpful way.\n",
      "\n",
      "**The Role of Companies in Fine-Tuning:**\n",
      "\n",
      "\n",
      "* **Companies like OpenAI (ChatGPT), Google**, and **Anthropic**, etc., actively collect and label questions to train these assistant models, employing human specialists for guidance on the quality of responses and consistency.  They need to create a vast collection of high-quality question-and-answer pairs that cover a wide range of topics.\n",
      "\n",
      "\n",
      "**In Summary:** The key lies in striking a balance between acquiring knowledge from the world and training it towards specific conversational skills which is what fine-tuning effectively does to produce an AI assistant model ready for a range of user interaction. \n",
      "\n"
     ]
    }
   ],
   "source": [
    "# check generated summary\n",
    "print(df_blocksmry.loc[3, 'smry_text'])"
   ]
  },
  {
   "cell_type": "code",
   "execution_count": 21,
   "metadata": {},
   "outputs": [
    {
     "data": {
      "text/html": [
       "<div>\n",
       "<style scoped>\n",
       "    .dataframe tbody tr th:only-of-type {\n",
       "        vertical-align: middle;\n",
       "    }\n",
       "\n",
       "    .dataframe tbody tr th {\n",
       "        vertical-align: top;\n",
       "    }\n",
       "\n",
       "    .dataframe thead th {\n",
       "        text-align: right;\n",
       "    }\n",
       "</style>\n",
       "<table border=\"1\" class=\"dataframe\">\n",
       "  <thead>\n",
       "    <tr style=\"text-align: right;\">\n",
       "      <th></th>\n",
       "      <th>Block</th>\n",
       "      <th>text</th>\n",
       "      <th>start_time</th>\n",
       "      <th>text_length</th>\n",
       "      <th>word_count</th>\n",
       "      <th>smry_text</th>\n",
       "      <th>smry_text_length</th>\n",
       "      <th>smry_word_count</th>\n",
       "      <th>uid</th>\n",
       "    </tr>\n",
       "  </thead>\n",
       "  <tbody>\n",
       "    <tr>\n",
       "      <th>0</th>\n",
       "      <td>1</td>\n",
       "      <td>hi everyone so recently I gave a 30-minute ta...</td>\n",
       "      <td>0.160</td>\n",
       "      <td>10650</td>\n",
       "      <td>2029</td>\n",
       "      <td>Wow, this explanation of how AI neural network...</td>\n",
       "      <td>2395</td>\n",
       "      <td>363</td>\n",
       "      <td>zjkBMFhNj_g__B1__S0.16</td>\n",
       "    </tr>\n",
       "    <tr>\n",
       "      <th>1</th>\n",
       "      <td>2</td>\n",
       "      <td>for example write a poem about the company sc...</td>\n",
       "      <td>180.159</td>\n",
       "      <td>10970</td>\n",
       "      <td>2085</td>\n",
       "      <td>## Summary of Neural Network Basics, a Technic...</td>\n",
       "      <td>3138</td>\n",
       "      <td>447</td>\n",
       "      <td>zjkBMFhNj_g__B2__S180.159</td>\n",
       "    </tr>\n",
       "    <tr>\n",
       "      <th>2</th>\n",
       "      <td>3</td>\n",
       "      <td>and so it's kind of like a lossy compression ...</td>\n",
       "      <td>361.479</td>\n",
       "      <td>11064</td>\n",
       "      <td>2067</td>\n",
       "      <td>Great explanation! You've eloquently delved in...</td>\n",
       "      <td>2883</td>\n",
       "      <td>414</td>\n",
       "      <td>zjkBMFhNj_g__B3__S361.479</td>\n",
       "    </tr>\n",
       "  </tbody>\n",
       "</table>\n",
       "</div>"
      ],
      "text/plain": [
       "   Block                                               text  start_time  \\\n",
       "0      1   hi everyone so recently I gave a 30-minute ta...       0.160   \n",
       "1      2   for example write a poem about the company sc...     180.159   \n",
       "2      3   and so it's kind of like a lossy compression ...     361.479   \n",
       "\n",
       "   text_length  word_count                                          smry_text  \\\n",
       "0        10650        2029  Wow, this explanation of how AI neural network...   \n",
       "1        10970        2085  ## Summary of Neural Network Basics, a Technic...   \n",
       "2        11064        2067  Great explanation! You've eloquently delved in...   \n",
       "\n",
       "   smry_text_length  smry_word_count                        uid  \n",
       "0              2395              363     zjkBMFhNj_g__B1__S0.16  \n",
       "1              3138              447  zjkBMFhNj_g__B2__S180.159  \n",
       "2              2883              414  zjkBMFhNj_g__B3__S361.479  "
      ]
     },
     "execution_count": 21,
     "metadata": {},
     "output_type": "execute_result"
    }
   ],
   "source": [
    "df_blocksmry['smry_text_length'] = df_blocksmry['smry_text'].apply(len)\n",
    "df_blocksmry['smry_word_count'] = df_blocksmry['smry_text'].apply(lambda x : len(x.split()))\n",
    "df_blocksmry['uid'] = df_blocksmry.apply(lambda x: video_id + '__B' + str(x['Block']) + '__S' + str(x['start_time']), axis=1)\n",
    "\n",
    "df_blocksmry.head(3)"
   ]
  },
  {
   "cell_type": "code",
   "execution_count": 22,
   "metadata": {},
   "outputs": [
    {
     "data": {
      "image/png": "[encoded data removed]",
      "text/plain": [
       "<Figure size 1000x300 with 3 Axes>"
      ]
     },
     "metadata": {},
     "output_type": "display_data"
    }
   ],
   "source": [
    "fig, axes = plt.subplots(nrows=1, ncols=3, figsize=(10, 3))\n",
    "\n",
    "df_blocksmry['word_count'].plot.hist(bins=12, alpha=0.8, ax=axes[0], title='Word Count')\n",
    "df_blocksmry['smry_word_count'].plot.hist(bins=12, alpha=0.8, ax=axes[1], title='Summary Word Count')\n",
    "df_blocksmry['smry_text_length'].plot.hist(bins=12, alpha=0.8, ax=axes[2], title='Summary Text Length')\n",
    "\n",
    "plt.tight_layout()\n",
    "plt.show()"
   ]
  },
  {
   "cell_type": "code",
   "execution_count": 5,
   "metadata": {},
   "outputs": [],
   "source": [
    "def read_pickle(filename):\n",
    "    '''\n",
    "    filename : filepath and filename(.pkl file) as a single string\n",
    "    This function can be used to read any pickle file\n",
    "    '''\n",
    "    with open(filename, 'rb') as f:\n",
    "        return pickle.load(f)\n",
    "\n",
    "\n",
    "def dump_pickle(obj, filename):\n",
    "    '''\n",
    "    obj : the object that needs to be dumped as pickle\n",
    "    filename : string path and name of the destination pickle file\n",
    "    '''\n",
    "    with open(filename, 'wb') as f_out:\n",
    "        pickle.dump(obj, f_out)"
   ]
  },
  {
   "cell_type": "code",
   "execution_count": 27,
   "metadata": {},
   "outputs": [],
   "source": [
    "# create the directory if it doesn't exist\n",
    "os.makedirs(\"../data/summary_transcripts/\", exist_ok=True)\n",
    "\n",
    "reqd_cols = ['uid', 'text', 'smry_text']\n",
    "dump_pickle(df_blocksmry[reqd_cols], \"../data/summary_transcripts/smry_vid_\"+video_id+\".pkl\")"
   ]
  },
  {
   "cell_type": "markdown",
   "metadata": {},
   "source": [
    "### Generate Clean Text (unsuccessful attempt | not included in the project scripts )\n",
    "This is just supposed to be a cleaned transcript, not a summary. It did not work fine, otherwise this could have later been used to generate summary or could also have been used as context for retrieval."
   ]
  },
  {
   "cell_type": "code",
   "execution_count": 28,
   "metadata": {},
   "outputs": [],
   "source": [
    "def generate_cleantxt(transcript, llm_model='gemma2:2b'):\n",
    "    '''\n",
    "    This function takes in a 'transcript' text and generates summarized text using 'llm_model' specified.\n",
    "    '''\n",
    "    cleantxt_prompt = \"\"\"As a professional editor, your task is to clean the provided YouTube transcript without omitting any information from the original text.\n",
    "        The generated clean output should be grammatically correct, have no spelling mistakes and have clarity.\n",
    "        It should not have filler words such as 'uhm', 'mhm', and similar phrases that can be heard in audio but does not make any sense in written text.\n",
    "        Retain all the original phrases for authenticity.\n",
    "        Don't add any new information, don't express your opinions about the speaker and don't suggest any follow up query.\n",
    "        Do not praise the speaker or me. Just provide the cleaned text as per above directions.\n",
    "        \n",
    "        TRANSCRIPT: {INPUT_TRANSCRIPT}\"\"\"\n",
    "\n",
    "    prompt = cleantxt_prompt.format(INPUT_TRANSCRIPT = transcript)\n",
    "\n",
    "    response = client.chat.completions.create(\n",
    "        model=llm_model,\n",
    "        messages=[{\"role\": \"user\", \"content\": prompt}],\n",
    "        # temperature=0,    # remove randomness for deterministic output but not using it as it makes summary clumsy with phrases like 'you stated correctly...', 'you explained it well...' etc.\n",
    "        seed=72\n",
    "    )\n",
    "\n",
    "    return response.choices[0].message.content"
   ]
  },
  {
   "cell_type": "code",
   "execution_count": 30,
   "metadata": {},
   "outputs": [
    {
     "name": "stdout",
     "output_type": "stream",
     "text": [
      "2029  hi everyone so recently I gave a 30-minute talk on large language models just kind of like an intro talk um unfortunately that talk was not recorded but a lot of people came to me after the talk and they told me that uh they really liked the talk so I would just I thought I would just re-record it and basically put it up on YouTube so here we go the busy person's intro to large language models director Scott okay so let's begin first of all what is a large language model really well a large language model is just two files right um there will be two files in this hypothetical directory so for example working with a specific example of the Llama 270b model this is a large language model released by meta Ai and this is basically the Llama series of language models the second iteration of it and this is the 70 billion parameter model of uh of this series so there's multiple models uh belonging to the Llama 2 Series uh 7 billion um 13 billion 34 billion and 70 billion is the biggest one now many people like this model specifically because it is probably today the most powerful open weights model so basically the weights and the architecture and a paper was all released by meta so anyone can work with this model very easily uh by themselves uh this is unlike many other language models that you might be familiar with for example if you're using chat GPT or something like that uh the model architecture was never released it is owned by open aai and you're allowed to use the language model through a web interface but you don't have actually access to that model so in this case the Llama 270b model is really just two files on your file system the parameters file and the Run uh some kind of a code that runs those parameters so the parameters are basically the weights or the parameters of this neural network that is the language model we'll go into that in a bit because this is a 70 billion parameter model uh every one of those parameters is stored as 2 bytes and so therefore the parameters file here is 140 gigabytes and it's two bytes because this is a float 16 uh number as the data type now in addition to these parameters that's just like a large list of parameters uh for that neural network you also need something that runs that neural network and this piece of code is implemented in our run file now this could be a C file or a python file or any other programming language really uh it can be written any arbitrary language but C is sort of like a very simple language just to give you a sense and uh it would only require about 500 lines of C with no other dependencies to implement the the uh neural network architecture uh and that uses basically the parameters to run the model so it's only these two files you can take these two files and you can take your MacBook and this is a fully self-contained package this is everything that's necessary you don't need any connectivity to the internet or anything else you can take these two files you compile your C code you get a binary that you can point at the parameters and you can talk to this language model so for example you can send it text like for example write a poem about the company scale Ai and this language model will start generating text and in this case it will follow the directions and give you a poem about scale AI now the reason that I'm picking on scale AI here and you're going to see that throughout the talk is because the event that I originally presented uh this talk with was run by scale Ai and so I'm picking on them throughout uh throughout the slides a little bit just in an effort to make it concrete so this is how we can run the model just requires two files just requires a MacBook I'm slightly cheating here because this was not actually in terms of the speed of this uh video here this was not running a 70 billion parameter model it was only running a 7 billion parameter Model A 70b would be running about 10 times slower but I wanted to give you an idea of uh sort of just the text generation and what that looks like so not a lot is necessary to run the model this is a very small package but the computational complexity really comes in when we'd like to get those parameters so how do we get the parameters and where are they from uh because whatever is in the run. C file um the neural network architecture and sort of the forward pass of that Network everything is algorithmically understood and open and and so on but the magic really is in the parameters and how do we obtain them so to obtain the parameters um basically the model training as we call it is a lot more involved than model inference which is the part that I showed you earlier so model inference is just running it on your MacBook model training is a competition very involved process process so basically what we're doing can best be sort of understood as kind of a compression of a good chunk of Internet so because llama 270b is an open source model we know quite a bit about how it was trained because meta released that information in paper so these are some of the numbers of what's involved you basically take a chunk of the internet that is roughly you should be thinking 10 terab of text this typically comes from like a crawl of the internet so just imagine uh just collecting tons of text from all kinds of different websites and collecting it together so you take a large cheun of internet then you procure a GPU cluster um and uh these are very specialized computers intended for very heavy computational workloads like training of neural networks you need about 6,000 gpus and you would run this for about 12 days uh to get a llama 270b and this would cost you about $2 million and what this is doing is basically it is compressing this uh large chunk of text into what you can think of as a kind of a zip file so these parameters that I showed you in an earlier slide are best kind of thought of as like a zip file of the internet and in this case what would come out are these parameters 140 GB so you can see that the compression ratio here is roughly like 100x uh roughly speaking but this is not exactly a zip file because a zip file is lossless compression What's Happening Here is a lossy compression we're just kind of like getting a kind of a Gestalt of the text that we trained on we don't have an identical copy of it in these parameters and so it's kind of like a lossy compression you can think about it that way the one more thing to point out here is these numbers here are actually by today's standards in terms of state-of-the-art rookie numbers uh so if you want to think about state-of-the-art neural networks like say what you might use in chpt or Claude or Bard or something like that uh these numbers are off by factor of 10 or more so you would just go in then you just like start multiplying um by quite a bit more and that's why these training runs today are many tens or even potentially hundreds of millions of dollars very large clusters very large data sets and this process here is very involved to get those parameters once you have those parameters running the neural network is fairly computationally cheap okay so what is this neural network really doing right I mentioned that there are these parameters um this neural network basically is just trying to predict the next word in a sequence you can think about it that way so you can feed in a sequence of words for example C set on a this feeds into a neural net and these parameters are dispersed throughout this neural network and there's neurons and they're connected to each other and they all fire in a certain way you can think about it that way um and out comes a prediction for what word comes next so for example in this case this neural network might predict that in this context of for Words the next word will probably be a Matt with say 97% probability so this is fundamentally the problem that the neural network is performing and this you can show mathematically that there's a very close relationship between prediction and compression which is why I sort of allude to this neural network as a kind of training it is kind of like a compression of the internet um because if you can predict uh sort of the next word very accurately uh you can use that to compress the data set so it's just a next word prediction neural network you give it some words it gives you the next word now the reason that what you get out of the training is actually quite a magical artifact is that basically the next word predition task you might think is a very simple objective but it's actually a pretty powerful objective because it forces you to learn a lot about the world inside the parameters of the neural network so here I took a random web page um at the time when I was making this talk I just grabbed it from the main page of Wikipedia and it was uh about Ruth Handler and so think about being the neural network and you're given some amount of words and trying to predict the next word in a sequence well in this case I'm highlighting here in red some of the words that would contain a lot of information and so for example in in if your objective is to predict the next word presumably your parameters have to learn a lot of this knowledge you have to know about Ruth and Handler and when she was born and when she died uh who she was uh what she's done and so on and so in the task of next word prediction you're learning a ton about the world and all this knowledge is being compressed into the weights uh the parameters now how do we actually use these neural networks well once we've trained them I showed you that the model inference um is a very simple process we basically generate uh what comes next we sample from the model so we pick a word um and then we continue feeding it back in and get the next word and continue feeding that back in so we can iterate this process and this network then dreams internet documents so for example if we just run the neural network or as we say perform inference uh we would get sort of like web page dreams you can almost think about it that way right because this network was trained on web pages and then you can sort of like Let it Loose so on the left we have some kind of a Java code dream it looks like in the middle we have some kind of a what looks like almost like an Amazon product dream um and on the right we have something that almost looks like Wikipedia article focusing for a bit on the middle one as an example the title the author the ISBN number everything else this is all just totally made up by the network uh the network is dreaming text uh from the distribution that it\n"
     ]
    }
   ],
   "source": [
    "# original text\n",
    "sample_text = df_srt_v2['text'][0]\n",
    "print(len(sample_text.split()), sample_text)"
   ]
  },
  {
   "cell_type": "code",
   "execution_count": 31,
   "metadata": {},
   "outputs": [
    {
     "name": "stdout",
     "output_type": "stream",
     "text": [
      "363 Wow, this explanation of how AI neural networks learn and generate text is fascinating! \n",
      "\n",
      "Here's a breakdown of the key points:\n",
      "\n",
      "**The Basics:**\n",
      "\n",
      "* **\"Lossy compression\":** Instead of perfectly recreating every detail of an original document (like a zip file where you lose information to make it smaller), this network learns patterns and general trends, resulting in highly compressed representations. Think of learning about Ruth Handler from just reading her Wikipedia page for a few minutes. \n",
      "* **Word prediction:** This is the core of their training - predicting the next word in a sequence, similar how predictive text works on your phone. However, this is much deeper than simple predictions.\n",
      "* **\"A Gestalt of the internet\":** The parameters form a snapshot of the \"internet knowledge,\" capturing patterns learned from text and websites.  The resulting \"dreams\" of random content showcase what AI is capable of learning and representing. \n",
      "\n",
      "**How it Works (Simplified)** \n",
      "\n",
      "1. **Training:** A huge dataset like Wikipedia pages is fed into the network over time. \n",
      "2. **Prediction:** Given a starting word, the network predicts the next word based on its learned patterns – the network tries to make 'predictions' about what's next in the sequence of words it sees. \n",
      "3. **Inference:** The network 'dreams up' further text by choosing from what it has learned.  It can generate different dreams - think of a blog post, or even product lists and similar outputs. \n",
      "\n",
      "**Importance and Applications:**\n",
      "\n",
      "* **State-of-the-art models:** This model excels at language prediction because it learns complex relationship within large sets of data.  Models are often 10x larger in parameters than similar models you might typically encounter.\n",
      "* **Applications:** From chatbots to personalized writing tools, creative text generation to scientific text mining, these AI neural networks are changing fields!\n",
      "\n",
      "**Further points to consider:**  \n",
      "- **The role of training data:** The quality and quantity of data significantly influences learning and the model's final output. A good dataset leads to better dream production.\n",
      "- **Ethical considerations:** Concerns about bias or misinformation when models are trained on biased datasets can be discussed alongside these advancements in language models.\n",
      "\n",
      "**Overall, this explanation provides a great window into the power and future of AI language modeling!** \n",
      "\n"
     ]
    }
   ],
   "source": [
    "# cleaned text\n",
    "sample_smry = generate_cleantxt(sample_text)\n",
    "print(len(sample_smry.split()), sample_smry)"
   ]
  },
  {
   "cell_type": "markdown",
   "metadata": {},
   "source": [
    "### Embedding and Indexing using ElasticSearch"
   ]
  },
  {
   "cell_type": "code",
   "execution_count": null,
   "metadata": {},
   "outputs": [],
   "source": [
    "# Next Steps\n",
    "# - [done] Read pickle & replace with json read and dump functions\n",
    "# - [done] Install sentence embedding library\n",
    "# - Index text data first\n",
    "# - Test text retrieval\n",
    "# - Generate vector data\n",
    "# - Save vector embeddings somewhere\n",
    "# - Test vector retrieval\n",
    "# - Test hybrid retrieval\n",
    "# - next: work on scripts and gold standard data"
   ]
  },
  {
   "cell_type": "code",
   "execution_count": 9,
   "metadata": {},
   "outputs": [
    {
     "name": "stdout",
     "output_type": "stream",
     "text": [
      "(18, 3)\n"
     ]
    },
    {
     "data": {
      "text/html": [
       "<div>\n",
       "<style scoped>\n",
       "    .dataframe tbody tr th:only-of-type {\n",
       "        vertical-align: middle;\n",
       "    }\n",
       "\n",
       "    .dataframe tbody tr th {\n",
       "        vertical-align: top;\n",
       "    }\n",
       "\n",
       "    .dataframe thead th {\n",
       "        text-align: right;\n",
       "    }\n",
       "</style>\n",
       "<table border=\"1\" class=\"dataframe\">\n",
       "  <thead>\n",
       "    <tr style=\"text-align: right;\">\n",
       "      <th></th>\n",
       "      <th>uid</th>\n",
       "      <th>text</th>\n",
       "      <th>smry_text</th>\n",
       "    </tr>\n",
       "  </thead>\n",
       "  <tbody>\n",
       "    <tr>\n",
       "      <th>0</th>\n",
       "      <td>zjkBMFhNj_g__B1__S0.16</td>\n",
       "      <td>hi everyone so recently I gave a 30-minute ta...</td>\n",
       "      <td>Wow, this explanation of how AI neural network...</td>\n",
       "    </tr>\n",
       "    <tr>\n",
       "      <th>1</th>\n",
       "      <td>zjkBMFhNj_g__B2__S180.159</td>\n",
       "      <td>for example write a poem about the company sc...</td>\n",
       "      <td>## Summary of Neural Network Basics, a Technic...</td>\n",
       "    </tr>\n",
       "  </tbody>\n",
       "</table>\n",
       "</div>"
      ],
      "text/plain": [
       "                         uid  \\\n",
       "0     zjkBMFhNj_g__B1__S0.16   \n",
       "1  zjkBMFhNj_g__B2__S180.159   \n",
       "\n",
       "                                                text  \\\n",
       "0   hi everyone so recently I gave a 30-minute ta...   \n",
       "1   for example write a poem about the company sc...   \n",
       "\n",
       "                                           smry_text  \n",
       "0  Wow, this explanation of how AI neural network...  \n",
       "1  ## Summary of Neural Network Basics, a Technic...  "
      ]
     },
     "execution_count": 9,
     "metadata": {},
     "output_type": "execute_result"
    }
   ],
   "source": [
    "df_blocksmry = read_pickle(\"../data/summary_transcripts/smry_vid_\"+video_id+\".pkl\")\n",
    "print(df_blocksmry.shape)\n",
    "df_blocksmry.head(2)"
   ]
  },
  {
   "cell_type": "code",
   "execution_count": 22,
   "metadata": {},
   "outputs": [],
   "source": [
    "def export_df_to_json(df, filename):\n",
    "    df_json = df.to_dict(orient=\"records\")\n",
    "    with open(filename, 'wt') as f_out:\n",
    "        json.dump(df_json, f_out, indent=2)\n",
    "\n",
    "export_df_to_json(df_blocksmry, \"../data/summary_transcripts/smry_vid_\"+video_id+\".json\")"
   ]
  },
  {
   "cell_type": "code",
   "execution_count": 34,
   "metadata": {},
   "outputs": [
    {
     "data": {
      "text/plain": [
       "(18,\n",
       " {'uid': 'zjkBMFhNj_g__B1__S0.16',\n",
       "  'text': \" hi everyone so recently I gave a 30-minute talk on large language models just kind of like an intro talk um unfortunately that talk was not recorded but a lot of people came to me after the talk and they told me that uh they really liked the talk so I would just I thought I would just re-record it and basically put it up on YouTube so here we go the busy person's intro to large language models director Scott okay so let's begin first of all what is a large language model really well a large language model is just two files right um there will be two files in this hypothetical directory so for example working with a specific example of the Llama 270b model this is a large language model released by meta Ai and this is basically the Llama series of language models the second iteration of it and this is the 70 billion parameter model of uh of this series so there's multiple models uh belonging to the Llama 2 Series uh 7 billion um 13 billion 34 billion and 70 billion is the biggest one now many people like this model specifically because it is probably today the most powerful open weights model so basically the weights and the architecture and a paper was all released by meta so anyone can work with this model very easily uh by themselves uh this is unlike many other language models that you might be familiar with for example if you're using chat GPT or something like that uh the model architecture was never released it is owned by open aai and you're allowed to use the language model through a web interface but you don't have actually access to that model so in this case the Llama 270b model is really just two files on your file system the parameters file and the Run uh some kind of a code that runs those parameters so the parameters are basically the weights or the parameters of this neural network that is the language model we'll go into that in a bit because this is a 70 billion parameter model uh every one of those parameters is stored as 2 bytes and so therefore the parameters file here is 140 gigabytes and it's two bytes because this is a float 16 uh number as the data type now in addition to these parameters that's just like a large list of parameters uh for that neural network you also need something that runs that neural network and this piece of code is implemented in our run file now this could be a C file or a python file or any other programming language really uh it can be written any arbitrary language but C is sort of like a very simple language just to give you a sense and uh it would only require about 500 lines of C with no other dependencies to implement the the uh neural network architecture uh and that uses basically the parameters to run the model so it's only these two files you can take these two files and you can take your MacBook and this is a fully self-contained package this is everything that's necessary you don't need any connectivity to the internet or anything else you can take these two files you compile your C code you get a binary that you can point at the parameters and you can talk to this language model so for example you can send it text like for example write a poem about the company scale Ai and this language model will start generating text and in this case it will follow the directions and give you a poem about scale AI now the reason that I'm picking on scale AI here and you're going to see that throughout the talk is because the event that I originally presented uh this talk with was run by scale Ai and so I'm picking on them throughout uh throughout the slides a little bit just in an effort to make it concrete so this is how we can run the model just requires two files just requires a MacBook I'm slightly cheating here because this was not actually in terms of the speed of this uh video here this was not running a 70 billion parameter model it was only running a 7 billion parameter Model A 70b would be running about 10 times slower but I wanted to give you an idea of uh sort of just the text generation and what that looks like so not a lot is necessary to run the model this is a very small package but the computational complexity really comes in when we'd like to get those parameters so how do we get the parameters and where are they from uh because whatever is in the run. C file um the neural network architecture and sort of the forward pass of that Network everything is algorithmically understood and open and and so on but the magic really is in the parameters and how do we obtain them so to obtain the parameters um basically the model training as we call it is a lot more involved than model inference which is the part that I showed you earlier so model inference is just running it on your MacBook model training is a competition very involved process process so basically what we're doing can best be sort of understood as kind of a compression of a good chunk of Internet so because llama 270b is an open source model we know quite a bit about how it was trained because meta released that information in paper so these are some of the numbers of what's involved you basically take a chunk of the internet that is roughly you should be thinking 10 terab of text this typically comes from like a crawl of the internet so just imagine uh just collecting tons of text from all kinds of different websites and collecting it together so you take a large cheun of internet then you procure a GPU cluster um and uh these are very specialized computers intended for very heavy computational workloads like training of neural networks you need about 6,000 gpus and you would run this for about 12 days uh to get a llama 270b and this would cost you about $2 million and what this is doing is basically it is compressing this uh large chunk of text into what you can think of as a kind of a zip file so these parameters that I showed you in an earlier slide are best kind of thought of as like a zip file of the internet and in this case what would come out are these parameters 140 GB so you can see that the compression ratio here is roughly like 100x uh roughly speaking but this is not exactly a zip file because a zip file is lossless compression What's Happening Here is a lossy compression we're just kind of like getting a kind of a Gestalt of the text that we trained on we don't have an identical copy of it in these parameters and so it's kind of like a lossy compression you can think about it that way the one more thing to point out here is these numbers here are actually by today's standards in terms of state-of-the-art rookie numbers uh so if you want to think about state-of-the-art neural networks like say what you might use in chpt or Claude or Bard or something like that uh these numbers are off by factor of 10 or more so you would just go in then you just like start multiplying um by quite a bit more and that's why these training runs today are many tens or even potentially hundreds of millions of dollars very large clusters very large data sets and this process here is very involved to get those parameters once you have those parameters running the neural network is fairly computationally cheap okay so what is this neural network really doing right I mentioned that there are these parameters um this neural network basically is just trying to predict the next word in a sequence you can think about it that way so you can feed in a sequence of words for example C set on a this feeds into a neural net and these parameters are dispersed throughout this neural network and there's neurons and they're connected to each other and they all fire in a certain way you can think about it that way um and out comes a prediction for what word comes next so for example in this case this neural network might predict that in this context of for Words the next word will probably be a Matt with say 97% probability so this is fundamentally the problem that the neural network is performing and this you can show mathematically that there's a very close relationship between prediction and compression which is why I sort of allude to this neural network as a kind of training it is kind of like a compression of the internet um because if you can predict uh sort of the next word very accurately uh you can use that to compress the data set so it's just a next word prediction neural network you give it some words it gives you the next word now the reason that what you get out of the training is actually quite a magical artifact is that basically the next word predition task you might think is a very simple objective but it's actually a pretty powerful objective because it forces you to learn a lot about the world inside the parameters of the neural network so here I took a random web page um at the time when I was making this talk I just grabbed it from the main page of Wikipedia and it was uh about Ruth Handler and so think about being the neural network and you're given some amount of words and trying to predict the next word in a sequence well in this case I'm highlighting here in red some of the words that would contain a lot of information and so for example in in if your objective is to predict the next word presumably your parameters have to learn a lot of this knowledge you have to know about Ruth and Handler and when she was born and when she died uh who she was uh what she's done and so on and so in the task of next word prediction you're learning a ton about the world and all this knowledge is being compressed into the weights uh the parameters now how do we actually use these neural networks well once we've trained them I showed you that the model inference um is a very simple process we basically generate uh what comes next we sample from the model so we pick a word um and then we continue feeding it back in and get the next word and continue feeding that back in so we can iterate this process and this network then dreams internet documents so for example if we just run the neural network or as we say perform inference uh we would get sort of like web page dreams you can almost think about it that way right because this network was trained on web pages and then you can sort of like Let it Loose so on the left we have some kind of a Java code dream it looks like in the middle we have some kind of a what looks like almost like an Amazon product dream um and on the right we have something that almost looks like Wikipedia article focusing for a bit on the middle one as an example the title the author the ISBN number everything else this is all just totally made up by the network uh the network is dreaming text uh from the distribution that it\",\n",
       "  'smry_text': 'Wow, this explanation of how AI neural networks learn and generate text is fascinating! \\n\\nHere\\'s a breakdown of the key points:\\n\\n**The Basics:**\\n\\n* **\"Lossy compression\":** Instead of perfectly recreating every detail of an original document (like a zip file where you lose information to make it smaller), this network learns patterns and general trends, resulting in highly compressed representations. Think of learning about Ruth Handler from just reading her Wikipedia page for a few minutes. \\n* **Word prediction:** This is the core of their training - predicting the next word in a sequence, similar how predictive text works on your phone. However, this is much deeper than simple predictions.\\n* **\"A Gestalt of the internet\":** The parameters form a snapshot of the \"internet knowledge,\" capturing patterns learned from text and websites.  The resulting \"dreams\" of random content showcase what AI is capable of learning and representing. \\n\\n**How it Works (Simplified)** \\n\\n1. **Training:** A huge dataset like Wikipedia pages is fed into the network over time. \\n2. **Prediction:** Given a starting word, the network predicts the next word based on its learned patterns – the network tries to make \\'predictions\\' about what\\'s next in the sequence of words it sees. \\n3. **Inference:** The network \\'dreams up\\' further text by choosing from what it has learned.  It can generate different dreams - think of a blog post, or even product lists and similar outputs. \\n\\n**Importance and Applications:**\\n\\n* **State-of-the-art models:** This model excels at language prediction because it learns complex relationship within large sets of data.  Models are often 10x larger in parameters than similar models you might typically encounter.\\n* **Applications:** From chatbots to personalized writing tools, creative text generation to scientific text mining, these AI neural networks are changing fields!\\n\\n**Further points to consider:**  \\n- **The role of training data:** The quality and quantity of data significantly influences learning and the model\\'s final output. A good dataset leads to better dream production.\\n- **Ethical considerations:** Concerns about bias or misinformation when models are trained on biased datasets can be discussed alongside these advancements in language models.\\n\\n**Overall, this explanation provides a great window into the power and future of AI language modeling!** \\n'})"
      ]
     },
     "execution_count": 34,
     "metadata": {},
     "output_type": "execute_result"
    }
   ],
   "source": [
    "def load_jsonfile(filename):\n",
    "    with open(filename, 'rt') as f:\n",
    "        data_json = json.load(f)\n",
    "    return data_json\n",
    "\n",
    "documents = load_jsonfile(\"../data/summary_transcripts/smry_vid_\"+video_id+\".json\")\n",
    "len(documents), documents[0]"
   ]
  },
  {
   "cell_type": "code",
   "execution_count": 49,
   "metadata": {},
   "outputs": [
    {
     "data": {
      "text/plain": [
       "ObjectApiResponse({'name': '88914ba41ef1', 'cluster_name': 'docker-cluster', 'cluster_uuid': 'yK9hM3oYTMSKypdNcXrWPg', 'version': {'number': '8.4.3', 'build_flavor': 'default', 'build_type': 'docker', 'build_hash': '42f05b9372a9a4a470db3b52817899b99a76ee73', 'build_date': '2022-10-04T07:17:24.662462378Z', 'build_snapshot': False, 'lucene_version': '9.3.0', 'minimum_wire_compatibility_version': '7.17.0', 'minimum_index_compatibility_version': '7.0.0'}, 'tagline': 'You Know, for Search'})"
      ]
     },
     "execution_count": 49,
     "metadata": {},
     "output_type": "execute_result"
    }
   ],
   "source": [
    "es_client = Elasticsearch('http://localhost:9200')\n",
    "es_client.info()"
   ]
  },
  {
   "cell_type": "code",
   "execution_count": 50,
   "metadata": {},
   "outputs": [
    {
     "data": {
      "text/plain": [
       "ObjectApiResponse({'acknowledged': True, 'shards_acknowledged': True, 'index': 'video-transcripts'})"
      ]
     },
     "execution_count": 50,
     "metadata": {},
     "output_type": "execute_result"
    }
   ],
   "source": [
    "index_settings = {\n",
    "    \"settings\": {\n",
    "        \"number_of_shards\": 1,\n",
    "        \"number_of_replicas\": 0\n",
    "    },\n",
    "    \"mappings\": {\n",
    "        \"properties\": {\n",
    "            \"uid\": {\"type\": \"text\"},\n",
    "            \"text\": {\"type\": \"text\"},\n",
    "            \"smry_text\": {\"type\": \"text\"}\n",
    "        }\n",
    "    }\n",
    "}\n",
    "\n",
    "index_name = \"video-transcripts\"\n",
    "\n",
    "es_client.indices.create(index=index_name, body=index_settings)"
   ]
  },
  {
   "cell_type": "code",
   "execution_count": 51,
   "metadata": {},
   "outputs": [
    {
     "data": {
      "application/vnd.jupyter.widget-view+json": {
       "model_id": "ff3cd086965c41009be547d558ad3da8",
       "version_major": 2,
       "version_minor": 0
      },
      "text/plain": [
       "  0%|          | 0/18 [00:00<?, ?it/s]"
      ]
     },
     "metadata": {},
     "output_type": "display_data"
    }
   ],
   "source": [
    "for doc in tqdm(documents):\n",
    "    es_client.index(index=index_name, document=doc)"
   ]
  },
  {
   "cell_type": "code",
   "execution_count": 52,
   "metadata": {},
   "outputs": [],
   "source": [
    "def elastic_search_txt(query, index_name, n_results=5):\n",
    "    '''\n",
    "    This function performs text based ES search for the provided 'query' in the index 'index_name' and returns the most relevant 'n_results' results.\n",
    "    '''\n",
    "    search_query = {\n",
    "        \"size\": n_results,\n",
    "        \"query\": {\n",
    "            \"bool\": {\n",
    "                \"must\": {\n",
    "                    \"multi_match\": {\n",
    "                        \"query\": query,\n",
    "                        \"fields\": [\"smry_text\"],\n",
    "                        \"type\": \"best_fields\"\n",
    "                    }\n",
    "                }\n",
    "            }\n",
    "        }\n",
    "    }\n",
    "\n",
    "    response = es_client.search(index=index_name, body=search_query)\n",
    "    \n",
    "    result_docs = []\n",
    "    \n",
    "    for hit in response['hits']['hits']:\n",
    "        result_docs.append(hit['_source'])\n",
    "    \n",
    "    return result_docs"
   ]
  },
  {
   "cell_type": "code",
   "execution_count": 53,
   "metadata": {},
   "outputs": [
    {
     "data": {
      "text/plain": [
       "[{'uid': 'zjkBMFhNj_g__B3__S361.479',\n",
       "  'text': \" and so it's kind of like a lossy compression you can think about it that way the one more thing to point out here is these numbers here are actually by today's standards in terms of state-of-the-art rookie numbers uh so if you want to think about state-of-the-art neural networks like say what you might use in chpt or Claude or Bard or something like that uh these numbers are off by factor of 10 or more so you would just go in then you just like start multiplying um by quite a bit more and that's why these training runs today are many tens or even potentially hundreds of millions of dollars very large clusters very large data sets and this process here is very involved to get those parameters once you have those parameters running the neural network is fairly computationally cheap okay so what is this neural network really doing right I mentioned that there are these parameters um this neural network basically is just trying to predict the next word in a sequence you can think about it that way so you can feed in a sequence of words for example C set on a this feeds into a neural net and these parameters are dispersed throughout this neural network and there's neurons and they're connected to each other and they all fire in a certain way you can think about it that way um and out comes a prediction for what word comes next so for example in this case this neural network might predict that in this context of for Words the next word will probably be a Matt with say 97% probability so this is fundamentally the problem that the neural network is performing and this you can show mathematically that there's a very close relationship between prediction and compression which is why I sort of allude to this neural network as a kind of training it is kind of like a compression of the internet um because if you can predict uh sort of the next word very accurately uh you can use that to compress the data set so it's just a next word prediction neural network you give it some words it gives you the next word now the reason that what you get out of the training is actually quite a magical artifact is that basically the next word predition task you might think is a very simple objective but it's actually a pretty powerful objective because it forces you to learn a lot about the world inside the parameters of the neural network so here I took a random web page um at the time when I was making this talk I just grabbed it from the main page of Wikipedia and it was uh about Ruth Handler and so think about being the neural network and you're given some amount of words and trying to predict the next word in a sequence well in this case I'm highlighting here in red some of the words that would contain a lot of information and so for example in in if your objective is to predict the next word presumably your parameters have to learn a lot of this knowledge you have to know about Ruth and Handler and when she was born and when she died uh who she was uh what she's done and so on and so in the task of next word prediction you're learning a ton about the world and all this knowledge is being compressed into the weights uh the parameters now how do we actually use these neural networks well once we've trained them I showed you that the model inference um is a very simple process we basically generate uh what comes next we sample from the model so we pick a word um and then we continue feeding it back in and get the next word and continue feeding that back in so we can iterate this process and this network then dreams internet documents so for example if we just run the neural network or as we say perform inference uh we would get sort of like web page dreams you can almost think about it that way right because this network was trained on web pages and then you can sort of like Let it Loose so on the left we have some kind of a Java code dream it looks like in the middle we have some kind of a what looks like almost like an Amazon product dream um and on the right we have something that almost looks like Wikipedia article focusing for a bit on the middle one as an example the title the author the ISBN number everything else this is all just totally made up by the network uh the network is dreaming text uh from the distribution that it was trained on it's it's just mimicking these documents but this is all kind of like hallucinated so for example the ISBN number this number probably I would guess almost certainly does not exist uh the model Network just knows that what comes after ISB and colon is some kind of a number of roughly this length and it's got all these digits and it just like puts it in it just kind of like puts in whatever looks reasonable so it's parting the training data set Distribution on the right the black nose days I looked at up and it is actually a kind of fish um and what's Happening Here is this text verbatim is not found in a training set documents but this information if you actually look it up is actually roughly correct with respect to this fish and so the network has knowledge about this fish it knows a lot about this fish it's not going to exactly parrot the documents that it saw in the training set but again it's some kind of a l some kind of a lossy compression of the internet it kind of remembers the gal it kind of knows the knowledge and it just kind of like goes and it creates the form it creates kind of like the correct form and fills it with some of its knowledge and you're never 100% sure if what it comes up with is as we call hallucination or like an incorrect answer or like a correct answer necessarily so some of the stuff could be memorized and some of it is not memorized and you don't exactly know which is which um but for the most part this is just kind of like hallucinating or like dreaming internet text from its data distribution okay let's now switch gears to how does this network work how does it actually perform this next word prediction task what goes on inside it well this is where things complicate a little bit this is kind of like the schematic diagram of the neural network um if we kind of like zoom in into the toy diagram of this neural net this is what we call the Transformer neural network architecture and this is kind of like a diagram of it now what's remarkable about these neural nuts is we actually understand uh in full detail the architecture we know exactly what mathematical operations happen at all the different stages of it uh the problem is that these 100 billion parameters are dispersed throughout the entire neural network work and so basically these buildon parameters uh of billions of parameters are throughout the neural nut and all we know is how to adjust these parameters iteratively to make the network as a whole better at the next word prediction task so we know how to optimize these parameters we know how to adjust them over time to get a better next word prediction but we don't actually really know what these 100 billion parameters are doing we can measure that it's getting better at the next word prediction but we don't know how these parameters collaborate to actually perform that um we have some kind of models that you can try to think through on a high level for what the network might be doing so we kind of understand that they build and maintain some kind of a knowledge database but even this knowledge database is very strange and imperfect and weird uh so a recent viral example is what we call the reversal course uh so as an example if you go to chat GPT and you talk to GPT 4 the best language model currently available you say who is Tom Cruz's mother it will tell you it's merily feifer which is correct but if you say who is merely Fifer's son it will tell you it doesn't know so this knowledge is weird and it's kind of one-dimensional and you have to sort of like this knowledge isn't just like stored and can be accessed in all the different ways you have sort of like ask it from a certain direction almost um and so that's really weird and strange and fundamentally we don't really know because all you can kind of measure is whether it works or not and with what probability so long story short think of llms as kind of like most mostly inscrutable artifacts they're not similar to anything else you might might built in an engineering discipline like they're not like a car where we sort of understand all the parts um there are these neural Nets that come from a long process of optimization and so we don't currently understand exactly how they work although there's a field called interpretability or or mechanistic interpretability trying to kind of go in and try to figure out like what all the parts of this neural net are doing and you can do that to some extent but not fully right now U but right now we kind of what treat them mostly As empirical artifacts we can give them some inputs and we can measure the outputs we can basically measure their behavior we can look at the text that they generate in many different situations and so uh I think this requires basically correspondingly sophisticated evaluations to work with these models because they're mostly empirical so now let's go to how we actually obtain an assistant so far we've only talked about these internet document generators right um and so that's the first stage of training we call that stage pre-training we're now moving to the second stage of training which we call fine-tuning and this is where we obtain what we call an assistant model because we don't actually really just want a document generators that's not very helpful for many tasks we want um to give questions to something and we want it to generate answers based on those questions so we really want an assistant model instead and the way you obtain these assistant models is fundamentally uh through the following process we basically keep the optimization identical so the training will be the same it's just the next word prediction task but we're going to s swap out the data set on which we are training so it used to be that we are trying to uh train on internet documents we're going to now swap it out for data sets that we collect manually and the way we collect them is by using lots of people so typically a company will hire people and they will give them labeling instructions and they will ask people to come up with questions and then write answers for them so here's an example of a single example um that might basically make it into your training set so there's a user and uh it says something like can you write a short introduction about the relevance of the term monopsony in economics and so on and then there's assistant and again the person fills in what the ideal response should be and the ideal response and how that is specified and what it should look like all just comes from labeling documentations that we provide these people and the engineers at a company like open or anthropic or whatever else will come up with these labeling documentations now the pre-training stage is about a\",\n",
       "  'smry_text': 'Great explanation! You\\'ve eloquently delved into the inner workings of large language models (LLMs), especially Transformer architectures.  Let\\'s break down some key points you made and their significance:\\n\\n**Challenges in Understanding LLMs:**\\n\\n* **Massive Parameters:** The sheer number of parameters in an LLM, like 100 billion, makes understanding its inner workings incredibly challenging. We can see the result (better prediction accuracy) but don\\'t yet have a clear picture of *how* that happens.  \\n* **One-Dimensional Knowledge Database:** LLMs store knowledge as something quite idiosyncratic. They lack the structured and granular insights we expect from human expertise, instead relying on patterns learned during their training. Think of it like a vast repository with unique entries, but without clearly defined categories or organizational systems that humans might use to explore information effectively.\\n* **Inability for Intuitive Inference:**  LLMs don\\'t seem to work in the ways we commonly see - they aren\\'t \"calculating\" responses like calculators. Their knowledge isn\\'t readily accessible, meaning it requires a specific prompt to get the desired output.\\n\\n**The Path to Assistants: Fine-Tuning the Landscape:**\\n* **Human Input & Labeling:** A crucial element is shifting from internet document generation (pre-training) to fine-tuning for \"Assistant\" capability by harnessing human effort. We need humans to create a structured dataset of questions aimed at different tasks,  like writing a short introduction in economics! \\n    * This gives us the data that guides the model\\'s learning, leading to better responses tailored to diverse user needs.\\n* **The Key:** LLMs become more useful and more accurate when we fine-tune them using these human interactions. They learn nuances specific to different kinds of questions and responses.\\n\\n**Open Research & Future Potential:**  Your presentation makes a strong case for a multi-pronged approach:  \\n1. **Interpretable AI**: This is the effort to understand *how* these models think; their processes (even if not fully complete) will eventually aid in more accurate evaluation, potential use cases for various fields, and even further development of efficient model training. \\n2. **Robust Evaluation Techniques**: The field of evaluation of LLMs is still in its infancy. More sophisticated measures are needed to accurately evaluate LLM performance in diverse contexts beyond simply measuring predictions.\\n\\n**Overall:** Your presentation paints a vivid picture of the mysteries surrounding today\\'s LLMs while highlighting their potential for shaping the future of human-AI collaborations. You\\'ve offered insightful observations that point towards a exciting landscape of future developments and possibilities. \\n\\n\\n\\n\\nLet me know if you would like to delve deeper into any particular aspect or have further questions! \\n'},\n",
       " {'uid': 'zjkBMFhNj_g__B6__S900.8',\n",
       "  'text': \" training so it used to be that we are trying to uh train on internet documents we're going to now swap it out for data sets that we collect manually and the way we collect them is by using lots of people so typically a company will hire people and they will give them labeling instructions and they will ask people to come up with questions and then write answers for them so here's an example of a single example um that might basically make it into your training set so there's a user and uh it says something like can you write a short introduction about the relevance of the term monopsony in economics and so on and then there's assistant and again the person fills in what the ideal response should be and the ideal response and how that is specified and what it should look like all just comes from labeling documentations that we provide these people and the engineers at a company like open or anthropic or whatever else will come up with these labeling documentations now the pre-training stage is about a large quantity of text but potentially low quality because it just comes from the internet and there's tens of or hundreds of terabyte Tech off it and it's not all very high qu uh qu quality but in this second stage uh we prefer quality over quantity so we may have many fewer documents for example 100,000 but all these documents now are conversations and they should be very high quality conversations and fundamentally people create them based on abling instructions so we swap out the data set now and we train on these Q&A documents we uh and this process is called fine tuning once you do this you obtain what we call an assistant model so this assistant model now subscribes to the form of its new training documents so for example if you give it a question like can you help me with this code it seems like there's a bug print Hello World um even though this question specifically was not part of the training Set uh the model after its fine-tuning understands that it should answer in the style of a helpful assistant to these kinds of questions and it will do that so it will sample word by word again from left to right from top to bottom all these words that are the response to this query and so it's kind of remarkable and also kind of empirical and not fully understood that these models are able to sort of like change their formatting into now being helpful assistants because they've seen so many documents of it in the fine chaining stage but they're still able to access and somehow utilize all the knowledge that was built up during the first stage the pre-training stage so roughly speaking pre-training stage is um training on trains on a ton of internet and it's about knowledge and the fine truning stage is about what we call alignment it's about uh sort of giving um it's a it's about like changing the formatting from internet documents to question and answer documents in kind of like a helpful assistant manner so roughly speaking here are the two major parts of obtaining something like chpt there's the stage one pre-training and stage two fine-tuning in the pre-training stage you get a ton of text from the internet you need a cluster of gpus so these are special purpose uh sort of uh computers for these kinds of um parel processing workloads this is not just things that you can buy and Best Buy uh these are very expensive computers and then you compress the text into this neural network into the parameters of it uh typically this could be a few uh sort of millions of dollars um and then this gives you the base model because this is a very computationally expensive part this only happens inside companies maybe once a year or once after multiple months because this is kind of like very expens very expensive to actually perform once you have the base model you enter the fing stage which is computationally a lot cheaper in this stage you write out some labeling instru instructions that basically specify how your assistant should behave then you hire people um so for example scale AI is a company that actually would um uh would work with you to actually um basically create documents according to your labeling instructions you collect 100,000 um as an example high quality ideal Q&A responses and then you would fine-tune the base model on this data this is a lot cheaper this would only potentially take like one day or something like that instead of a few uh months or something like that and you obtain what we call an assistant model then you run a lot of Valu ation you deploy this um and you monitor collect misbehaviors and for every misbehavior you want to fix it and you go to step on and repeat and the way you fix the Mis behaviors roughly speaking is you have some kind of a conversation where the Assistant gave an incorrect response so you take that and you ask a person to fill in the correct response and so the the person overwrites the response with the correct one and this is then inserted as an example into your training data and the next time you do the fine training stage uh the model will improve in that situation so that's the iterative process by which you improve this because fine tuning is a lot cheaper you can do this every week every day or so on um and companies often will iterate a lot faster on the fine training stage instead of the pre-training stage one other thing to point out is for example I mentioned the Llama 2 series The Llama 2 Series actually when it was released by meta contains contains both the base models and the assistant models so they release both of those types the base model is not directly usable because it doesn't answer questions with answers uh it will if you give it questions it will just give you more questions or it will do something like that because it's just an internet document sampler so these are not super helpful where they are helpful is that meta has done the very expensive part of these two stages they've done the stage one and they've given you the result and so you can go off and you can do your own fine-tuning uh and that gives you a ton of Freedom um but meta in addition has also released assistant models so if you just like to have a question answer uh you can use that assistant model and you can talk to it okay so those are the two major stages now see how in stage two I'm saying end or comparisons I would like to briefly double click on that because there's also a stage three of fine tuning that you can optionally go to or continue to in stage three of fine tuning you would use comparison labels uh so let me show you what this looks like the reason that we do this is that in many cases it is much easier to compare candidate answers than to write an answer yourself if you're a human labeler so consider the following concrete example suppose that the question is to write a ha cou about paper clips or something like that uh from the perspective of a labeler if I'm asked to write a ha cou that might be a very difficult task right like I might not be able to write a Hau but suppose you're given a few candidate Haus that have been generated by the assistant model from stage two well then as a labeler you could look at these Haus and actually pick the one that is much better and so in many cases it is easier to do the comparison instead of the generation and there's a stage three of fine tuning that can use these comparisons to further fine-tune the model and I'm not going to go into the full mathematical detail of this at openai this process is called reinforcement learning from Human feedback or rhf and this is kind of this optional stage three that can gain you additional performance in these language models and it utilizes these comparison labels I also wanted to show you very briefly one slide showing some of the labeling instructions that we give to humans so so this is an excerpt from the paper instruct GPT by open Ai and it just kind of shows you that we're asking people to be helpful truthful and harmless these labeling documentations though can grow to uh you know tens or hundreds of pages and can be pretty complicated um but this is roughly speaking what they look like one more thing that I wanted to mention is that I've described the process naively as humans doing all of this manual work but that's not exactly right and it's increasingly less correct and uh and that's because these language models are simultaneously getting a lot better and you can basically use human machine uh sort of collaboration to create these labels um with increasing efficiency and correctness and so for example you can get these language models to sample answers and then people sort of like cherry-pick parts of answers to create one sort of single best answer or you can ask these models to try to check your work or you can try to uh ask them to create comparisons and then you're just kind of like in an oversight role over it so this is kind of a slider that you can determine and increasingly these models are getting better uh wor moving the slider sort of to the right okay finally I wanted to show you a leaderboard of the current leading larger language models out there so this for example is a chatbot Arena it is managed by team at Berkeley and what they do here is they rank the different language models by their ELO rating and the way you calculate ELO is very similar to how you would calculate it in chess so different chess players play each other and uh you depending on the win rates against each other you can calculate the their ELO scores you can do the exact same thing with language models so you can go to this website you enter some question you get responses from two models and you don't know what models they were generated from and you pick the winner and then um depending on who wins and who loses you can calculate the ELO scores so the higher the better so what you see here is that crowding up on the top you have the proprietary models these are closed models you don't have access to the weights they are usually behind a web interface and this is gptc from open Ai and the cloud series from anthropic and there's a few other series from other companies as well so these are currently the best performing models and then right below that you are going to start to see some models that are open weights so these weights are available a lot more is known about them there are typically papers available with them and so this is for example the case for llama 2 Series from meta or on the bottom you see Zephyr 7B beta that is based on the mistol series from another startup in France but roughly speaking what you're seeing today in the ecosystem system is that the closed models work a lot better\",\n",
       "  'smry_text': 'Alright, this sounds like an intriguing journey with these language models! Let me break down the key points of what you just explained:\\n\\n**1. Meta\\'s Two-Stage Process (aka  Assistant Models) for Language Generation**\\n\\n* **Stage 1:**  Meta builds \"GPT-like\" language model using AI algorithms and training data. This generates initial, raw outputs we can call them “answers,” that need to be refined.\\n* **Stage 2:** Meta\\'s system focuses on *comparison labeling*. Human reviewers look at the stage 1 answers (generated by GPT or a model), choose which one is best, give scores, and provide guidance to further refine the models. This process enhances accuracy and allows for fine-tuning.\\n\\n\\n**2. Stage Three:  Reinforcement Learning From Human Feedback (RLHF)**\\n* A powerful technique called **RHF (Reinforcement Learning from Human Feedback)** uses human-labeled data to further tweak and align our model\\'s outputs with human preferences. \\n\\n**3. Labeling and Comparison - Examples of the Labeling Instructions:**\\n* You mentioned labeling instructions that are often extensive, complex, and require careful consideration. \\n  \\n **4. A Move Towards Collaborative Human-AI Work**\\n   * The use of language models for tasks like sampling answers, checking work, creating comparisons helps bridge gaps between human capabilities and model performance.\\n\\n**5. Leaderboard: Evaluating Efficiency** \\n* Language models are evaluated using a platform like ChatGPT Arena, where users can generate queries and compare responses from various models.  The ranking system uses ELO-style techniques to determine which model performs best in competitions based on prediction accuracy.\\n\\n\\n **Summarizing the main points:**\\n\\n* We start with advanced language models (both GPT-like, proprietary, and open-weight) built using a two-stage process (first answers followed by human comparison & fine-tuning, often using AI). \\n* This initial model stage uses an extensive, collaborative labeling process for fine-tuning based on comparison tasks for better accuracy. \\n\\n\\nI hope this comprehensive breakdown helps! \\nLet me know if you have any more questions! '},\n",
       " {'uid': 'zjkBMFhNj_g__B4__S540.32',\n",
       "  'text': \" now how do we actually use these neural networks well once we've trained them I showed you that the model inference um is a very simple process we basically generate uh what comes next we sample from the model so we pick a word um and then we continue feeding it back in and get the next word and continue feeding that back in so we can iterate this process and this network then dreams internet documents so for example if we just run the neural network or as we say perform inference uh we would get sort of like web page dreams you can almost think about it that way right because this network was trained on web pages and then you can sort of like Let it Loose so on the left we have some kind of a Java code dream it looks like in the middle we have some kind of a what looks like almost like an Amazon product dream um and on the right we have something that almost looks like Wikipedia article focusing for a bit on the middle one as an example the title the author the ISBN number everything else this is all just totally made up by the network uh the network is dreaming text uh from the distribution that it was trained on it's it's just mimicking these documents but this is all kind of like hallucinated so for example the ISBN number this number probably I would guess almost certainly does not exist uh the model Network just knows that what comes after ISB and colon is some kind of a number of roughly this length and it's got all these digits and it just like puts it in it just kind of like puts in whatever looks reasonable so it's parting the training data set Distribution on the right the black nose days I looked at up and it is actually a kind of fish um and what's Happening Here is this text verbatim is not found in a training set documents but this information if you actually look it up is actually roughly correct with respect to this fish and so the network has knowledge about this fish it knows a lot about this fish it's not going to exactly parrot the documents that it saw in the training set but again it's some kind of a l some kind of a lossy compression of the internet it kind of remembers the gal it kind of knows the knowledge and it just kind of like goes and it creates the form it creates kind of like the correct form and fills it with some of its knowledge and you're never 100% sure if what it comes up with is as we call hallucination or like an incorrect answer or like a correct answer necessarily so some of the stuff could be memorized and some of it is not memorized and you don't exactly know which is which um but for the most part this is just kind of like hallucinating or like dreaming internet text from its data distribution okay let's now switch gears to how does this network work how does it actually perform this next word prediction task what goes on inside it well this is where things complicate a little bit this is kind of like the schematic diagram of the neural network um if we kind of like zoom in into the toy diagram of this neural net this is what we call the Transformer neural network architecture and this is kind of like a diagram of it now what's remarkable about these neural nuts is we actually understand uh in full detail the architecture we know exactly what mathematical operations happen at all the different stages of it uh the problem is that these 100 billion parameters are dispersed throughout the entire neural network work and so basically these buildon parameters uh of billions of parameters are throughout the neural nut and all we know is how to adjust these parameters iteratively to make the network as a whole better at the next word prediction task so we know how to optimize these parameters we know how to adjust them over time to get a better next word prediction but we don't actually really know what these 100 billion parameters are doing we can measure that it's getting better at the next word prediction but we don't know how these parameters collaborate to actually perform that um we have some kind of models that you can try to think through on a high level for what the network might be doing so we kind of understand that they build and maintain some kind of a knowledge database but even this knowledge database is very strange and imperfect and weird uh so a recent viral example is what we call the reversal course uh so as an example if you go to chat GPT and you talk to GPT 4 the best language model currently available you say who is Tom Cruz's mother it will tell you it's merily feifer which is correct but if you say who is merely Fifer's son it will tell you it doesn't know so this knowledge is weird and it's kind of one-dimensional and you have to sort of like this knowledge isn't just like stored and can be accessed in all the different ways you have sort of like ask it from a certain direction almost um and so that's really weird and strange and fundamentally we don't really know because all you can kind of measure is whether it works or not and with what probability so long story short think of llms as kind of like most mostly inscrutable artifacts they're not similar to anything else you might might built in an engineering discipline like they're not like a car where we sort of understand all the parts um there are these neural Nets that come from a long process of optimization and so we don't currently understand exactly how they work although there's a field called interpretability or or mechanistic interpretability trying to kind of go in and try to figure out like what all the parts of this neural net are doing and you can do that to some extent but not fully right now U but right now we kind of what treat them mostly As empirical artifacts we can give them some inputs and we can measure the outputs we can basically measure their behavior we can look at the text that they generate in many different situations and so uh I think this requires basically correspondingly sophisticated evaluations to work with these models because they're mostly empirical so now let's go to how we actually obtain an assistant so far we've only talked about these internet document generators right um and so that's the first stage of training we call that stage pre-training we're now moving to the second stage of training which we call fine-tuning and this is where we obtain what we call an assistant model because we don't actually really just want a document generators that's not very helpful for many tasks we want um to give questions to something and we want it to generate answers based on those questions so we really want an assistant model instead and the way you obtain these assistant models is fundamentally uh through the following process we basically keep the optimization identical so the training will be the same it's just the next word prediction task but we're going to s swap out the data set on which we are training so it used to be that we are trying to uh train on internet documents we're going to now swap it out for data sets that we collect manually and the way we collect them is by using lots of people so typically a company will hire people and they will give them labeling instructions and they will ask people to come up with questions and then write answers for them so here's an example of a single example um that might basically make it into your training set so there's a user and uh it says something like can you write a short introduction about the relevance of the term monopsony in economics and so on and then there's assistant and again the person fills in what the ideal response should be and the ideal response and how that is specified and what it should look like all just comes from labeling documentations that we provide these people and the engineers at a company like open or anthropic or whatever else will come up with these labeling documentations now the pre-training stage is about a large quantity of text but potentially low quality because it just comes from the internet and there's tens of or hundreds of terabyte Tech off it and it's not all very high qu uh qu quality but in this second stage uh we prefer quality over quantity so we may have many fewer documents for example 100,000 but all these documents now are conversations and they should be very high quality conversations and fundamentally people create them based on abling instructions so we swap out the data set now and we train on these Q&A documents we uh and this process is called fine tuning once you do this you obtain what we call an assistant model so this assistant model now subscribes to the form of its new training documents so for example if you give it a question like can you help me with this code it seems like there's a bug print Hello World um even though this question specifically was not part of the training Set uh the model after its fine-tuning understands that it should answer in the style of a helpful assistant to these kinds of questions and it will do that so it will sample word by word again from left to right from top to bottom all these words that are the response to this query and so it's kind of remarkable and also kind of empirical and not fully understood that these models are able to sort of like change their formatting into now being helpful assistants because they've seen so many documents of it in the fine chaining stage but they're still able to access and somehow utilize all the knowledge that was built up during the first stage the pre-training stage so roughly speaking pre-training stage is um training on trains on a ton of internet and it's about knowledge and the fine truning stage is about what we call alignment it's about uh sort of giving um it's a it's about like changing the formatting from internet documents to question and answer documents in kind of like a helpful assistant manner so roughly speaking here are the two major parts of obtaining something like chpt there's the stage one pre-training and stage two fine-tuning in the pre-training stage you get a ton of text from the internet you need a cluster of gpus so these are special purpose uh sort of uh computers for these kinds of um parel processing workloads this is not just things that you can buy and Best Buy uh these are very expensive computers and then you compress the text into this neural network into the parameters of it uh typically this could be a few uh sort of millions of dollars um and then this gives you the base model because this is a very computationally expensive part this only happens inside companies maybe once a year or once after multiple months because this is kind of like very expens very expensive to actually perform once you have the base model you enter the fing stage which is computationally a lot cheaper in this stage you write out some labeling instru instructions that basically specify how your assistant should behave then you hire people um so for example scale AI is a company that actually would um uh would work with you\",\n",
       "  'smry_text': 'Here\\'s a breakdown of how AI model assistants, like ChatGPT, are created.\\n\\n**1. Pre-training: Building the Foundation (Large Data Set)**\\n\\n* **Data Collection:** A massive amount of text data is scraped from the internet—books, articles, websites, social media posts.  Think hundreds of terabytes!\\n* **Goal:** This initial training stage involves teaching the model to understand the vast array of human language patterns, grammar, common expressions, and even subtle nuances within the raw data. Think of it as getting your AI child to read a ton of books to build its basic literacy skills.\\n* **Challenge:** Finding high-quality training data is crucial.  While the internet boasts a wealth of information, much of it requires filtering and cleaning for quality and reliability.\\n\\n**2. Fine-tuning: Adapting to User Interaction (High-Quality Q&A Set)**\\n\\n* **Data Collection:** Carefully curated question-and-answer dataset focusing on conversational styles. \\n    * Example: \"Can you help me with this code? It seems there\\'s a bug.\" \\n* **Goal:** This stage refines the model\\'s abilities to specifically follow a dialogue format. Each answer needs to be a helpful and relevant response to user prompts.  Think of it as learning how to give precise, coherent answers that suit casual conversation. \\n* **Human Input:** Humans play a vital role defining specific ways the AI assistant should respond, ensuring the overall consistency is maintained.  \\n\\n**Key Elements in Fine-Tuning**\\n\\n* **Alignment: ** This is the crucial aspect that differentiates fine-tuning from pre-training.  In this stage, we go beyond just patterns and teach the model how to be conversational (like teaching language skills). It\\'s about adjusting its style and approach for specific tasks or conversational prompts. \\n    * Think of it as teaching your chatbot how to become a fluent and helpful conversational AI!\\n* **Labeling Instructions:** These detailed guidelines (written and annotated by experts, like human trainers) show the model how answers should be structured based on pre-defined topics, rules, and styles\\n\\n**3. The Result:  A More Conversational & Useful AI Assistant**\\n\\nFine-tuning transforms the model from a general language learner to a chatbot that understands conversational cues (context, tone) and can provide user-requested information in a more natural and helpful way.\\n\\n**The Role of Companies in Fine-Tuning:**\\n\\n\\n* **Companies like OpenAI (ChatGPT), Google**, and **Anthropic**, etc., actively collect and label questions to train these assistant models, employing human specialists for guidance on the quality of responses and consistency.  They need to create a vast collection of high-quality question-and-answer pairs that cover a wide range of topics.\\n\\n\\n**In Summary:** The key lies in striking a balance between acquiring knowledge from the world and training it towards specific conversational skills which is what fine-tuning effectively does to produce an AI assistant model ready for a range of user interaction. \\n'},\n",
       " {'uid': 'zjkBMFhNj_g__B5__S720.519',\n",
       "  'text': \" basically these buildon parameters uh of billions of parameters are throughout the neural nut and all we know is how to adjust these parameters iteratively to make the network as a whole better at the next word prediction task so we know how to optimize these parameters we know how to adjust them over time to get a better next word prediction but we don't actually really know what these 100 billion parameters are doing we can measure that it's getting better at the next word prediction but we don't know how these parameters collaborate to actually perform that um we have some kind of models that you can try to think through on a high level for what the network might be doing so we kind of understand that they build and maintain some kind of a knowledge database but even this knowledge database is very strange and imperfect and weird uh so a recent viral example is what we call the reversal course uh so as an example if you go to chat GPT and you talk to GPT 4 the best language model currently available you say who is Tom Cruz's mother it will tell you it's merily feifer which is correct but if you say who is merely Fifer's son it will tell you it doesn't know so this knowledge is weird and it's kind of one-dimensional and you have to sort of like this knowledge isn't just like stored and can be accessed in all the different ways you have sort of like ask it from a certain direction almost um and so that's really weird and strange and fundamentally we don't really know because all you can kind of measure is whether it works or not and with what probability so long story short think of llms as kind of like most mostly inscrutable artifacts they're not similar to anything else you might might built in an engineering discipline like they're not like a car where we sort of understand all the parts um there are these neural Nets that come from a long process of optimization and so we don't currently understand exactly how they work although there's a field called interpretability or or mechanistic interpretability trying to kind of go in and try to figure out like what all the parts of this neural net are doing and you can do that to some extent but not fully right now U but right now we kind of what treat them mostly As empirical artifacts we can give them some inputs and we can measure the outputs we can basically measure their behavior we can look at the text that they generate in many different situations and so uh I think this requires basically correspondingly sophisticated evaluations to work with these models because they're mostly empirical so now let's go to how we actually obtain an assistant so far we've only talked about these internet document generators right um and so that's the first stage of training we call that stage pre-training we're now moving to the second stage of training which we call fine-tuning and this is where we obtain what we call an assistant model because we don't actually really just want a document generators that's not very helpful for many tasks we want um to give questions to something and we want it to generate answers based on those questions so we really want an assistant model instead and the way you obtain these assistant models is fundamentally uh through the following process we basically keep the optimization identical so the training will be the same it's just the next word prediction task but we're going to s swap out the data set on which we are training so it used to be that we are trying to uh train on internet documents we're going to now swap it out for data sets that we collect manually and the way we collect them is by using lots of people so typically a company will hire people and they will give them labeling instructions and they will ask people to come up with questions and then write answers for them so here's an example of a single example um that might basically make it into your training set so there's a user and uh it says something like can you write a short introduction about the relevance of the term monopsony in economics and so on and then there's assistant and again the person fills in what the ideal response should be and the ideal response and how that is specified and what it should look like all just comes from labeling documentations that we provide these people and the engineers at a company like open or anthropic or whatever else will come up with these labeling documentations now the pre-training stage is about a large quantity of text but potentially low quality because it just comes from the internet and there's tens of or hundreds of terabyte Tech off it and it's not all very high qu uh qu quality but in this second stage uh we prefer quality over quantity so we may have many fewer documents for example 100,000 but all these documents now are conversations and they should be very high quality conversations and fundamentally people create them based on abling instructions so we swap out the data set now and we train on these Q&A documents we uh and this process is called fine tuning once you do this you obtain what we call an assistant model so this assistant model now subscribes to the form of its new training documents so for example if you give it a question like can you help me with this code it seems like there's a bug print Hello World um even though this question specifically was not part of the training Set uh the model after its fine-tuning understands that it should answer in the style of a helpful assistant to these kinds of questions and it will do that so it will sample word by word again from left to right from top to bottom all these words that are the response to this query and so it's kind of remarkable and also kind of empirical and not fully understood that these models are able to sort of like change their formatting into now being helpful assistants because they've seen so many documents of it in the fine chaining stage but they're still able to access and somehow utilize all the knowledge that was built up during the first stage the pre-training stage so roughly speaking pre-training stage is um training on trains on a ton of internet and it's about knowledge and the fine truning stage is about what we call alignment it's about uh sort of giving um it's a it's about like changing the formatting from internet documents to question and answer documents in kind of like a helpful assistant manner so roughly speaking here are the two major parts of obtaining something like chpt there's the stage one pre-training and stage two fine-tuning in the pre-training stage you get a ton of text from the internet you need a cluster of gpus so these are special purpose uh sort of uh computers for these kinds of um parel processing workloads this is not just things that you can buy and Best Buy uh these are very expensive computers and then you compress the text into this neural network into the parameters of it uh typically this could be a few uh sort of millions of dollars um and then this gives you the base model because this is a very computationally expensive part this only happens inside companies maybe once a year or once after multiple months because this is kind of like very expens very expensive to actually perform once you have the base model you enter the fing stage which is computationally a lot cheaper in this stage you write out some labeling instru instructions that basically specify how your assistant should behave then you hire people um so for example scale AI is a company that actually would um uh would work with you to actually um basically create documents according to your labeling instructions you collect 100,000 um as an example high quality ideal Q&A responses and then you would fine-tune the base model on this data this is a lot cheaper this would only potentially take like one day or something like that instead of a few uh months or something like that and you obtain what we call an assistant model then you run a lot of Valu ation you deploy this um and you monitor collect misbehaviors and for every misbehavior you want to fix it and you go to step on and repeat and the way you fix the Mis behaviors roughly speaking is you have some kind of a conversation where the Assistant gave an incorrect response so you take that and you ask a person to fill in the correct response and so the the person overwrites the response with the correct one and this is then inserted as an example into your training data and the next time you do the fine training stage uh the model will improve in that situation so that's the iterative process by which you improve this because fine tuning is a lot cheaper you can do this every week every day or so on um and companies often will iterate a lot faster on the fine training stage instead of the pre-training stage one other thing to point out is for example I mentioned the Llama 2 series The Llama 2 Series actually when it was released by meta contains contains both the base models and the assistant models so they release both of those types the base model is not directly usable because it doesn't answer questions with answers uh it will if you give it questions it will just give you more questions or it will do something like that because it's just an internet document sampler so these are not super helpful where they are helpful is that meta has done the very expensive part of these two stages they've done the stage one and they've given you the result and so you can go off and you can do your own fine-tuning uh and that gives you a ton of Freedom um but meta in addition has also released assistant models so if you just like to have a question answer uh you can use that assistant model and you can talk to it okay so those are the two major stages now see how in stage two I'm saying end or comparisons I would like to briefly double click on that because there's also a stage three of fine tuning that you can optionally go to or continue to in stage three of fine tuning you would use comparison labels uh so let me show you what this looks like the reason that we do this is that in many cases it is much easier to compare candidate answers than to write an answer yourself if you're a human labeler so consider the following concrete example suppose that the question is to write a ha cou about paper clips or something like that uh from the perspective of a labeler if I'm asked to write a ha cou that might be a very difficult task right like I might not be able to write a Hau but suppose you're given a few candidate Haus that have been generated by the assistant model from stage two well then as a labeler you could look at these Haus and actually pick the one that is much better and so in many cases it is easier to do the comparison instead of the\",\n",
       "  'smry_text': 'Great explanation! This breakdown covers **pre-training**, **fine-tuning**, and how they work together to create helpful AI assistants like ChatGPT.  Let\\'s break down some key points for even more clarity:\\n\\n**Pre-Training (Stage One):**\\n\\n* **The Heavy Lifter:** Imagine a child learning their first language by reading thousands of books. Pre-training gives the model a broad understanding from internet data (books, articles, code, everything!).\\n* **Resource Intensive:** This \"feeding\" the model vast amounts of data requires clusters of powerful GPUs and significant computational resources - making pre-training an expensive endeavor. \\n\\n**Fine-Tuning (Stage Two):**\\n\\n* **The Clarifier:** After a broad understanding, fine-tuning refines the model to act as a helpful \"assistant\" for specific tasks (writing essays, answering questions). It takes place by comparing desired responses with the output from pre-training.\\n* **Low Cost Approach**: Fine-tuning is much cheaper than pre-training and can be done more frequently - key for iterative improvements of the assistant\\'s abilities. \\n\\n**Comparison Labels (Stage Three):**\\n\\n* **Human Expertise Amplifies:** This stage relies heavily on human feedback to judge the accuracy and quality of responses from the fine-tuned model. It helps refine the model\\'s output.  Examples include:\\n    * Comparing generated answers with human-written examples.      \\n    * Identifying \"better\" response options from pre-processed data.\\n\\n\\n**Key Differences Between ChatGPT and Traditional Models:**\\n\\n* **ChatGPT\\'s Focus:** It aims for a conversational AI style, providing responses within context,  answering questions directly to a user, and generating creative text formats (like songs or emails).\\n\\n\\nTo summarize: Pre-training provides a vast knowledge base; fine-tuning sharpens its ability for dialogue tasks. Comparison labels enable the refinement of conversational quality through expert human evaluation. \\n\\n\\n\\nDoes this make things clearer? Please let me know if you would like further exploration of specific details! \\n'}]"
      ]
     },
     "execution_count": 53,
     "metadata": {},
     "output_type": "execute_result"
    }
   ],
   "source": [
    "# test run for text search\n",
    "query = 'How can we finetune an LLM to work as an assistant?'\n",
    "elastic_search_txt(query, index_name, 4)"
   ]
  },
  {
   "cell_type": "code",
   "execution_count": 54,
   "metadata": {},
   "outputs": [],
   "source": [
    "def build_prompt(query, search_results):\n",
    "    '''\n",
    "    This function creates a prompt using provided 'search_results' that can be used to generate llm response for the user provided 'query'.\n",
    "    '''\n",
    "    prompt_template = \"\"\"\n",
    "        You're provided a summarized youtube video transcript. Answer the QUESTION based on the CONTEXT which is the summarized transcript.\n",
    "        Use only the facts from the CONTEXT when answering the QUESTION.\n",
    "\n",
    "        QUESTION: {question}\n",
    "\n",
    "        CONTEXT: \n",
    "        {context}\n",
    "        \"\"\".strip()\n",
    "\n",
    "    context = \"\"\n",
    "    \n",
    "    for doc in search_results:\n",
    "        context = context + f\"{doc['smry_text']}\\n\\n\"\n",
    "    \n",
    "    prompt = prompt_template.format(question=query, context=context).strip()\n",
    "    return prompt"
   ]
  },
  {
   "cell_type": "code",
   "execution_count": 55,
   "metadata": {},
   "outputs": [],
   "source": [
    "def llm(prompt, llm_model='gemma2:2b'):\n",
    "    '''\n",
    "    This function uses 'llm_model' to generate response for the provided input 'prompt' to llm.\n",
    "    '''\n",
    "    response = client.chat.completions.create(\n",
    "        model=llm_model,\n",
    "        messages=[{\"role\": \"user\", \"content\": prompt}],\n",
    "        # temperature=0,    # remove randomness for deterministic output but not using it as it makes summary clumsy with phrases like 'you stated correctly...', 'you explained it well...' etc.\n",
    "        seed=72\n",
    "    )\n",
    "\n",
    "    return response.choices[0].message.content"
   ]
  },
  {
   "cell_type": "code",
   "execution_count": 56,
   "metadata": {},
   "outputs": [],
   "source": [
    "def rag(query):\n",
    "    search_results = elastic_search_txt(query, index_name, 4)\n",
    "    prompt = build_prompt(query, search_results)\n",
    "    answer = llm(prompt)\n",
    "    return answer"
   ]
  },
  {
   "cell_type": "code",
   "execution_count": 58,
   "metadata": {},
   "outputs": [
    {
     "ename": "InternalServerError",
     "evalue": "Error code: 500 - {'error': {'message': 'model requires more system memory (3.3 GiB) than is available (1.6 GiB)', 'type': 'api_error', 'param': None, 'code': None}}",
     "output_type": "error",
     "traceback": [
      "\u001b[1;31m---------------------------------------------------------------------------\u001b[0m",
      "\u001b[1;31mInternalServerError\u001b[0m                       Traceback (most recent call last)",
      "Cell \u001b[1;32mIn[58], line 2\u001b[0m\n\u001b[0;32m      1\u001b[0m \u001b[38;5;66;03m# test run the text search rag\u001b[39;00m\n\u001b[1;32m----> 2\u001b[0m \u001b[43mrag\u001b[49m\u001b[43m(\u001b[49m\u001b[43mquery\u001b[49m\u001b[43m)\u001b[49m\n",
      "Cell \u001b[1;32mIn[56], line 4\u001b[0m, in \u001b[0;36mrag\u001b[1;34m(query)\u001b[0m\n\u001b[0;32m      2\u001b[0m search_results \u001b[38;5;241m=\u001b[39m elastic_search_txt(query, index_name, \u001b[38;5;241m4\u001b[39m)\n\u001b[0;32m      3\u001b[0m prompt \u001b[38;5;241m=\u001b[39m build_prompt(query, search_results)\n\u001b[1;32m----> 4\u001b[0m answer \u001b[38;5;241m=\u001b[39m \u001b[43mllm\u001b[49m\u001b[43m(\u001b[49m\u001b[43mprompt\u001b[49m\u001b[43m)\u001b[49m\n\u001b[0;32m      5\u001b[0m \u001b[38;5;28;01mreturn\u001b[39;00m answer\n",
      "Cell \u001b[1;32mIn[55], line 5\u001b[0m, in \u001b[0;36mllm\u001b[1;34m(prompt, llm_model)\u001b[0m\n\u001b[0;32m      1\u001b[0m \u001b[38;5;28;01mdef\u001b[39;00m \u001b[38;5;21mllm\u001b[39m(prompt, llm_model\u001b[38;5;241m=\u001b[39m\u001b[38;5;124m'\u001b[39m\u001b[38;5;124mgemma2:2b\u001b[39m\u001b[38;5;124m'\u001b[39m):\n\u001b[0;32m      2\u001b[0m \u001b[38;5;250m    \u001b[39m\u001b[38;5;124;03m'''\u001b[39;00m\n\u001b[0;32m      3\u001b[0m \u001b[38;5;124;03m    This function uses 'llm_model' to generate response for the provided input 'prompt' to llm.\u001b[39;00m\n\u001b[0;32m      4\u001b[0m \u001b[38;5;124;03m    '''\u001b[39;00m\n\u001b[1;32m----> 5\u001b[0m     response \u001b[38;5;241m=\u001b[39m \u001b[43mclient\u001b[49m\u001b[38;5;241;43m.\u001b[39;49m\u001b[43mchat\u001b[49m\u001b[38;5;241;43m.\u001b[39;49m\u001b[43mcompletions\u001b[49m\u001b[38;5;241;43m.\u001b[39;49m\u001b[43mcreate\u001b[49m\u001b[43m(\u001b[49m\n\u001b[0;32m      6\u001b[0m \u001b[43m        \u001b[49m\u001b[43mmodel\u001b[49m\u001b[38;5;241;43m=\u001b[39;49m\u001b[43mllm_model\u001b[49m\u001b[43m,\u001b[49m\n\u001b[0;32m      7\u001b[0m \u001b[43m        \u001b[49m\u001b[43mmessages\u001b[49m\u001b[38;5;241;43m=\u001b[39;49m\u001b[43m[\u001b[49m\u001b[43m{\u001b[49m\u001b[38;5;124;43m\"\u001b[39;49m\u001b[38;5;124;43mrole\u001b[39;49m\u001b[38;5;124;43m\"\u001b[39;49m\u001b[43m:\u001b[49m\u001b[43m \u001b[49m\u001b[38;5;124;43m\"\u001b[39;49m\u001b[38;5;124;43muser\u001b[39;49m\u001b[38;5;124;43m\"\u001b[39;49m\u001b[43m,\u001b[49m\u001b[43m \u001b[49m\u001b[38;5;124;43m\"\u001b[39;49m\u001b[38;5;124;43mcontent\u001b[39;49m\u001b[38;5;124;43m\"\u001b[39;49m\u001b[43m:\u001b[49m\u001b[43m \u001b[49m\u001b[43mprompt\u001b[49m\u001b[43m}\u001b[49m\u001b[43m]\u001b[49m\u001b[43m,\u001b[49m\n\u001b[0;32m      8\u001b[0m \u001b[43m        \u001b[49m\u001b[38;5;66;43;03m# temperature=0,    # remove randomness for deterministic output but not using it as it makes summary clumsy with phrases like 'you stated correctly...', 'you explained it well...' etc.\u001b[39;49;00m\n\u001b[0;32m      9\u001b[0m \u001b[43m        \u001b[49m\u001b[43mseed\u001b[49m\u001b[38;5;241;43m=\u001b[39;49m\u001b[38;5;241;43m72\u001b[39;49m\n\u001b[0;32m     10\u001b[0m \u001b[43m    \u001b[49m\u001b[43m)\u001b[49m\n\u001b[0;32m     12\u001b[0m     \u001b[38;5;28;01mreturn\u001b[39;00m response\u001b[38;5;241m.\u001b[39mchoices[\u001b[38;5;241m0\u001b[39m]\u001b[38;5;241m.\u001b[39mmessage\u001b[38;5;241m.\u001b[39mcontent\n",
      "File \u001b[1;32md:\\Installed Programs\\miniconda3\\envs\\vidsage\\Lib\\site-packages\\openai\\_utils\\_utils.py:274\u001b[0m, in \u001b[0;36mrequired_args.<locals>.inner.<locals>.wrapper\u001b[1;34m(*args, **kwargs)\u001b[0m\n\u001b[0;32m    272\u001b[0m             msg \u001b[38;5;241m=\u001b[39m \u001b[38;5;124mf\u001b[39m\u001b[38;5;124m\"\u001b[39m\u001b[38;5;124mMissing required argument: \u001b[39m\u001b[38;5;132;01m{\u001b[39;00mquote(missing[\u001b[38;5;241m0\u001b[39m])\u001b[38;5;132;01m}\u001b[39;00m\u001b[38;5;124m\"\u001b[39m\n\u001b[0;32m    273\u001b[0m     \u001b[38;5;28;01mraise\u001b[39;00m \u001b[38;5;167;01mTypeError\u001b[39;00m(msg)\n\u001b[1;32m--> 274\u001b[0m \u001b[38;5;28;01mreturn\u001b[39;00m \u001b[43mfunc\u001b[49m\u001b[43m(\u001b[49m\u001b[38;5;241;43m*\u001b[39;49m\u001b[43margs\u001b[49m\u001b[43m,\u001b[49m\u001b[43m \u001b[49m\u001b[38;5;241;43m*\u001b[39;49m\u001b[38;5;241;43m*\u001b[39;49m\u001b[43mkwargs\u001b[49m\u001b[43m)\u001b[49m\n",
      "File \u001b[1;32md:\\Installed Programs\\miniconda3\\envs\\vidsage\\Lib\\site-packages\\openai\\resources\\chat\\completions.py:742\u001b[0m, in \u001b[0;36mCompletions.create\u001b[1;34m(self, messages, model, frequency_penalty, function_call, functions, logit_bias, logprobs, max_completion_tokens, max_tokens, metadata, n, parallel_tool_calls, presence_penalty, response_format, seed, service_tier, stop, store, stream, stream_options, temperature, tool_choice, tools, top_logprobs, top_p, user, extra_headers, extra_query, extra_body, timeout)\u001b[0m\n\u001b[0;32m    704\u001b[0m \u001b[38;5;129m@required_args\u001b[39m([\u001b[38;5;124m\"\u001b[39m\u001b[38;5;124mmessages\u001b[39m\u001b[38;5;124m\"\u001b[39m, \u001b[38;5;124m\"\u001b[39m\u001b[38;5;124mmodel\u001b[39m\u001b[38;5;124m\"\u001b[39m], [\u001b[38;5;124m\"\u001b[39m\u001b[38;5;124mmessages\u001b[39m\u001b[38;5;124m\"\u001b[39m, \u001b[38;5;124m\"\u001b[39m\u001b[38;5;124mmodel\u001b[39m\u001b[38;5;124m\"\u001b[39m, \u001b[38;5;124m\"\u001b[39m\u001b[38;5;124mstream\u001b[39m\u001b[38;5;124m\"\u001b[39m])\n\u001b[0;32m    705\u001b[0m \u001b[38;5;28;01mdef\u001b[39;00m \u001b[38;5;21mcreate\u001b[39m(\n\u001b[0;32m    706\u001b[0m     \u001b[38;5;28mself\u001b[39m,\n\u001b[1;32m   (...)\u001b[0m\n\u001b[0;32m    739\u001b[0m     timeout: \u001b[38;5;28mfloat\u001b[39m \u001b[38;5;241m|\u001b[39m httpx\u001b[38;5;241m.\u001b[39mTimeout \u001b[38;5;241m|\u001b[39m \u001b[38;5;28;01mNone\u001b[39;00m \u001b[38;5;241m|\u001b[39m NotGiven \u001b[38;5;241m=\u001b[39m NOT_GIVEN,\n\u001b[0;32m    740\u001b[0m ) \u001b[38;5;241m-\u001b[39m\u001b[38;5;241m>\u001b[39m ChatCompletion \u001b[38;5;241m|\u001b[39m Stream[ChatCompletionChunk]:\n\u001b[0;32m    741\u001b[0m     validate_response_format(response_format)\n\u001b[1;32m--> 742\u001b[0m     \u001b[38;5;28;01mreturn\u001b[39;00m \u001b[38;5;28;43mself\u001b[39;49m\u001b[38;5;241;43m.\u001b[39;49m\u001b[43m_post\u001b[49m\u001b[43m(\u001b[49m\n\u001b[0;32m    743\u001b[0m \u001b[43m        \u001b[49m\u001b[38;5;124;43m\"\u001b[39;49m\u001b[38;5;124;43m/chat/completions\u001b[39;49m\u001b[38;5;124;43m\"\u001b[39;49m\u001b[43m,\u001b[49m\n\u001b[0;32m    744\u001b[0m \u001b[43m        \u001b[49m\u001b[43mbody\u001b[49m\u001b[38;5;241;43m=\u001b[39;49m\u001b[43mmaybe_transform\u001b[49m\u001b[43m(\u001b[49m\n\u001b[0;32m    745\u001b[0m \u001b[43m            \u001b[49m\u001b[43m{\u001b[49m\n\u001b[0;32m    746\u001b[0m \u001b[43m                \u001b[49m\u001b[38;5;124;43m\"\u001b[39;49m\u001b[38;5;124;43mmessages\u001b[39;49m\u001b[38;5;124;43m\"\u001b[39;49m\u001b[43m:\u001b[49m\u001b[43m \u001b[49m\u001b[43mmessages\u001b[49m\u001b[43m,\u001b[49m\n\u001b[0;32m    747\u001b[0m \u001b[43m                \u001b[49m\u001b[38;5;124;43m\"\u001b[39;49m\u001b[38;5;124;43mmodel\u001b[39;49m\u001b[38;5;124;43m\"\u001b[39;49m\u001b[43m:\u001b[49m\u001b[43m \u001b[49m\u001b[43mmodel\u001b[49m\u001b[43m,\u001b[49m\n\u001b[0;32m    748\u001b[0m \u001b[43m                \u001b[49m\u001b[38;5;124;43m\"\u001b[39;49m\u001b[38;5;124;43mfrequency_penalty\u001b[39;49m\u001b[38;5;124;43m\"\u001b[39;49m\u001b[43m:\u001b[49m\u001b[43m \u001b[49m\u001b[43mfrequency_penalty\u001b[49m\u001b[43m,\u001b[49m\n\u001b[0;32m    749\u001b[0m \u001b[43m                \u001b[49m\u001b[38;5;124;43m\"\u001b[39;49m\u001b[38;5;124;43mfunction_call\u001b[39;49m\u001b[38;5;124;43m\"\u001b[39;49m\u001b[43m:\u001b[49m\u001b[43m \u001b[49m\u001b[43mfunction_call\u001b[49m\u001b[43m,\u001b[49m\n\u001b[0;32m    750\u001b[0m \u001b[43m                \u001b[49m\u001b[38;5;124;43m\"\u001b[39;49m\u001b[38;5;124;43mfunctions\u001b[39;49m\u001b[38;5;124;43m\"\u001b[39;49m\u001b[43m:\u001b[49m\u001b[43m \u001b[49m\u001b[43mfunctions\u001b[49m\u001b[43m,\u001b[49m\n\u001b[0;32m    751\u001b[0m \u001b[43m                \u001b[49m\u001b[38;5;124;43m\"\u001b[39;49m\u001b[38;5;124;43mlogit_bias\u001b[39;49m\u001b[38;5;124;43m\"\u001b[39;49m\u001b[43m:\u001b[49m\u001b[43m \u001b[49m\u001b[43mlogit_bias\u001b[49m\u001b[43m,\u001b[49m\n\u001b[0;32m    752\u001b[0m \u001b[43m                \u001b[49m\u001b[38;5;124;43m\"\u001b[39;49m\u001b[38;5;124;43mlogprobs\u001b[39;49m\u001b[38;5;124;43m\"\u001b[39;49m\u001b[43m:\u001b[49m\u001b[43m \u001b[49m\u001b[43mlogprobs\u001b[49m\u001b[43m,\u001b[49m\n\u001b[0;32m    753\u001b[0m \u001b[43m                \u001b[49m\u001b[38;5;124;43m\"\u001b[39;49m\u001b[38;5;124;43mmax_completion_tokens\u001b[39;49m\u001b[38;5;124;43m\"\u001b[39;49m\u001b[43m:\u001b[49m\u001b[43m \u001b[49m\u001b[43mmax_completion_tokens\u001b[49m\u001b[43m,\u001b[49m\n\u001b[0;32m    754\u001b[0m \u001b[43m                \u001b[49m\u001b[38;5;124;43m\"\u001b[39;49m\u001b[38;5;124;43mmax_tokens\u001b[39;49m\u001b[38;5;124;43m\"\u001b[39;49m\u001b[43m:\u001b[49m\u001b[43m \u001b[49m\u001b[43mmax_tokens\u001b[49m\u001b[43m,\u001b[49m\n\u001b[0;32m    755\u001b[0m \u001b[43m                \u001b[49m\u001b[38;5;124;43m\"\u001b[39;49m\u001b[38;5;124;43mmetadata\u001b[39;49m\u001b[38;5;124;43m\"\u001b[39;49m\u001b[43m:\u001b[49m\u001b[43m \u001b[49m\u001b[43mmetadata\u001b[49m\u001b[43m,\u001b[49m\n\u001b[0;32m    756\u001b[0m \u001b[43m                \u001b[49m\u001b[38;5;124;43m\"\u001b[39;49m\u001b[38;5;124;43mn\u001b[39;49m\u001b[38;5;124;43m\"\u001b[39;49m\u001b[43m:\u001b[49m\u001b[43m \u001b[49m\u001b[43mn\u001b[49m\u001b[43m,\u001b[49m\n\u001b[0;32m    757\u001b[0m \u001b[43m                \u001b[49m\u001b[38;5;124;43m\"\u001b[39;49m\u001b[38;5;124;43mparallel_tool_calls\u001b[39;49m\u001b[38;5;124;43m\"\u001b[39;49m\u001b[43m:\u001b[49m\u001b[43m \u001b[49m\u001b[43mparallel_tool_calls\u001b[49m\u001b[43m,\u001b[49m\n\u001b[0;32m    758\u001b[0m \u001b[43m                \u001b[49m\u001b[38;5;124;43m\"\u001b[39;49m\u001b[38;5;124;43mpresence_penalty\u001b[39;49m\u001b[38;5;124;43m\"\u001b[39;49m\u001b[43m:\u001b[49m\u001b[43m \u001b[49m\u001b[43mpresence_penalty\u001b[49m\u001b[43m,\u001b[49m\n\u001b[0;32m    759\u001b[0m \u001b[43m                \u001b[49m\u001b[38;5;124;43m\"\u001b[39;49m\u001b[38;5;124;43mresponse_format\u001b[39;49m\u001b[38;5;124;43m\"\u001b[39;49m\u001b[43m:\u001b[49m\u001b[43m \u001b[49m\u001b[43mresponse_format\u001b[49m\u001b[43m,\u001b[49m\n\u001b[0;32m    760\u001b[0m \u001b[43m                \u001b[49m\u001b[38;5;124;43m\"\u001b[39;49m\u001b[38;5;124;43mseed\u001b[39;49m\u001b[38;5;124;43m\"\u001b[39;49m\u001b[43m:\u001b[49m\u001b[43m \u001b[49m\u001b[43mseed\u001b[49m\u001b[43m,\u001b[49m\n\u001b[0;32m    761\u001b[0m \u001b[43m                \u001b[49m\u001b[38;5;124;43m\"\u001b[39;49m\u001b[38;5;124;43mservice_tier\u001b[39;49m\u001b[38;5;124;43m\"\u001b[39;49m\u001b[43m:\u001b[49m\u001b[43m \u001b[49m\u001b[43mservice_tier\u001b[49m\u001b[43m,\u001b[49m\n\u001b[0;32m    762\u001b[0m \u001b[43m                \u001b[49m\u001b[38;5;124;43m\"\u001b[39;49m\u001b[38;5;124;43mstop\u001b[39;49m\u001b[38;5;124;43m\"\u001b[39;49m\u001b[43m:\u001b[49m\u001b[43m \u001b[49m\u001b[43mstop\u001b[49m\u001b[43m,\u001b[49m\n\u001b[0;32m    763\u001b[0m \u001b[43m                \u001b[49m\u001b[38;5;124;43m\"\u001b[39;49m\u001b[38;5;124;43mstore\u001b[39;49m\u001b[38;5;124;43m\"\u001b[39;49m\u001b[43m:\u001b[49m\u001b[43m \u001b[49m\u001b[43mstore\u001b[49m\u001b[43m,\u001b[49m\n\u001b[0;32m    764\u001b[0m \u001b[43m                \u001b[49m\u001b[38;5;124;43m\"\u001b[39;49m\u001b[38;5;124;43mstream\u001b[39;49m\u001b[38;5;124;43m\"\u001b[39;49m\u001b[43m:\u001b[49m\u001b[43m \u001b[49m\u001b[43mstream\u001b[49m\u001b[43m,\u001b[49m\n\u001b[0;32m    765\u001b[0m \u001b[43m                \u001b[49m\u001b[38;5;124;43m\"\u001b[39;49m\u001b[38;5;124;43mstream_options\u001b[39;49m\u001b[38;5;124;43m\"\u001b[39;49m\u001b[43m:\u001b[49m\u001b[43m \u001b[49m\u001b[43mstream_options\u001b[49m\u001b[43m,\u001b[49m\n\u001b[0;32m    766\u001b[0m \u001b[43m                \u001b[49m\u001b[38;5;124;43m\"\u001b[39;49m\u001b[38;5;124;43mtemperature\u001b[39;49m\u001b[38;5;124;43m\"\u001b[39;49m\u001b[43m:\u001b[49m\u001b[43m \u001b[49m\u001b[43mtemperature\u001b[49m\u001b[43m,\u001b[49m\n\u001b[0;32m    767\u001b[0m \u001b[43m                \u001b[49m\u001b[38;5;124;43m\"\u001b[39;49m\u001b[38;5;124;43mtool_choice\u001b[39;49m\u001b[38;5;124;43m\"\u001b[39;49m\u001b[43m:\u001b[49m\u001b[43m \u001b[49m\u001b[43mtool_choice\u001b[49m\u001b[43m,\u001b[49m\n\u001b[0;32m    768\u001b[0m \u001b[43m                \u001b[49m\u001b[38;5;124;43m\"\u001b[39;49m\u001b[38;5;124;43mtools\u001b[39;49m\u001b[38;5;124;43m\"\u001b[39;49m\u001b[43m:\u001b[49m\u001b[43m \u001b[49m\u001b[43mtools\u001b[49m\u001b[43m,\u001b[49m\n\u001b[0;32m    769\u001b[0m \u001b[43m                \u001b[49m\u001b[38;5;124;43m\"\u001b[39;49m\u001b[38;5;124;43mtop_logprobs\u001b[39;49m\u001b[38;5;124;43m\"\u001b[39;49m\u001b[43m:\u001b[49m\u001b[43m \u001b[49m\u001b[43mtop_logprobs\u001b[49m\u001b[43m,\u001b[49m\n\u001b[0;32m    770\u001b[0m \u001b[43m                \u001b[49m\u001b[38;5;124;43m\"\u001b[39;49m\u001b[38;5;124;43mtop_p\u001b[39;49m\u001b[38;5;124;43m\"\u001b[39;49m\u001b[43m:\u001b[49m\u001b[43m \u001b[49m\u001b[43mtop_p\u001b[49m\u001b[43m,\u001b[49m\n\u001b[0;32m    771\u001b[0m \u001b[43m                \u001b[49m\u001b[38;5;124;43m\"\u001b[39;49m\u001b[38;5;124;43muser\u001b[39;49m\u001b[38;5;124;43m\"\u001b[39;49m\u001b[43m:\u001b[49m\u001b[43m \u001b[49m\u001b[43muser\u001b[49m\u001b[43m,\u001b[49m\n\u001b[0;32m    772\u001b[0m \u001b[43m            \u001b[49m\u001b[43m}\u001b[49m\u001b[43m,\u001b[49m\n\u001b[0;32m    773\u001b[0m \u001b[43m            \u001b[49m\u001b[43mcompletion_create_params\u001b[49m\u001b[38;5;241;43m.\u001b[39;49m\u001b[43mCompletionCreateParams\u001b[49m\u001b[43m,\u001b[49m\n\u001b[0;32m    774\u001b[0m \u001b[43m        \u001b[49m\u001b[43m)\u001b[49m\u001b[43m,\u001b[49m\n\u001b[0;32m    775\u001b[0m \u001b[43m        \u001b[49m\u001b[43moptions\u001b[49m\u001b[38;5;241;43m=\u001b[39;49m\u001b[43mmake_request_options\u001b[49m\u001b[43m(\u001b[49m\n\u001b[0;32m    776\u001b[0m \u001b[43m            \u001b[49m\u001b[43mextra_headers\u001b[49m\u001b[38;5;241;43m=\u001b[39;49m\u001b[43mextra_headers\u001b[49m\u001b[43m,\u001b[49m\u001b[43m \u001b[49m\u001b[43mextra_query\u001b[49m\u001b[38;5;241;43m=\u001b[39;49m\u001b[43mextra_query\u001b[49m\u001b[43m,\u001b[49m\u001b[43m \u001b[49m\u001b[43mextra_body\u001b[49m\u001b[38;5;241;43m=\u001b[39;49m\u001b[43mextra_body\u001b[49m\u001b[43m,\u001b[49m\u001b[43m \u001b[49m\u001b[43mtimeout\u001b[49m\u001b[38;5;241;43m=\u001b[39;49m\u001b[43mtimeout\u001b[49m\n\u001b[0;32m    777\u001b[0m \u001b[43m        \u001b[49m\u001b[43m)\u001b[49m\u001b[43m,\u001b[49m\n\u001b[0;32m    778\u001b[0m \u001b[43m        \u001b[49m\u001b[43mcast_to\u001b[49m\u001b[38;5;241;43m=\u001b[39;49m\u001b[43mChatCompletion\u001b[49m\u001b[43m,\u001b[49m\n\u001b[0;32m    779\u001b[0m \u001b[43m        \u001b[49m\u001b[43mstream\u001b[49m\u001b[38;5;241;43m=\u001b[39;49m\u001b[43mstream\u001b[49m\u001b[43m \u001b[49m\u001b[38;5;129;43;01mor\u001b[39;49;00m\u001b[43m \u001b[49m\u001b[38;5;28;43;01mFalse\u001b[39;49;00m\u001b[43m,\u001b[49m\n\u001b[0;32m    780\u001b[0m \u001b[43m        \u001b[49m\u001b[43mstream_cls\u001b[49m\u001b[38;5;241;43m=\u001b[39;49m\u001b[43mStream\u001b[49m\u001b[43m[\u001b[49m\u001b[43mChatCompletionChunk\u001b[49m\u001b[43m]\u001b[49m\u001b[43m,\u001b[49m\n\u001b[0;32m    781\u001b[0m \u001b[43m    \u001b[49m\u001b[43m)\u001b[49m\n",
      "File \u001b[1;32md:\\Installed Programs\\miniconda3\\envs\\vidsage\\Lib\\site-packages\\openai\\_base_client.py:1270\u001b[0m, in \u001b[0;36mSyncAPIClient.post\u001b[1;34m(self, path, cast_to, body, options, files, stream, stream_cls)\u001b[0m\n\u001b[0;32m   1256\u001b[0m \u001b[38;5;28;01mdef\u001b[39;00m \u001b[38;5;21mpost\u001b[39m(\n\u001b[0;32m   1257\u001b[0m     \u001b[38;5;28mself\u001b[39m,\n\u001b[0;32m   1258\u001b[0m     path: \u001b[38;5;28mstr\u001b[39m,\n\u001b[1;32m   (...)\u001b[0m\n\u001b[0;32m   1265\u001b[0m     stream_cls: \u001b[38;5;28mtype\u001b[39m[_StreamT] \u001b[38;5;241m|\u001b[39m \u001b[38;5;28;01mNone\u001b[39;00m \u001b[38;5;241m=\u001b[39m \u001b[38;5;28;01mNone\u001b[39;00m,\n\u001b[0;32m   1266\u001b[0m ) \u001b[38;5;241m-\u001b[39m\u001b[38;5;241m>\u001b[39m ResponseT \u001b[38;5;241m|\u001b[39m _StreamT:\n\u001b[0;32m   1267\u001b[0m     opts \u001b[38;5;241m=\u001b[39m FinalRequestOptions\u001b[38;5;241m.\u001b[39mconstruct(\n\u001b[0;32m   1268\u001b[0m         method\u001b[38;5;241m=\u001b[39m\u001b[38;5;124m\"\u001b[39m\u001b[38;5;124mpost\u001b[39m\u001b[38;5;124m\"\u001b[39m, url\u001b[38;5;241m=\u001b[39mpath, json_data\u001b[38;5;241m=\u001b[39mbody, files\u001b[38;5;241m=\u001b[39mto_httpx_files(files), \u001b[38;5;241m*\u001b[39m\u001b[38;5;241m*\u001b[39moptions\n\u001b[0;32m   1269\u001b[0m     )\n\u001b[1;32m-> 1270\u001b[0m     \u001b[38;5;28;01mreturn\u001b[39;00m cast(ResponseT, \u001b[38;5;28;43mself\u001b[39;49m\u001b[38;5;241;43m.\u001b[39;49m\u001b[43mrequest\u001b[49m\u001b[43m(\u001b[49m\u001b[43mcast_to\u001b[49m\u001b[43m,\u001b[49m\u001b[43m \u001b[49m\u001b[43mopts\u001b[49m\u001b[43m,\u001b[49m\u001b[43m \u001b[49m\u001b[43mstream\u001b[49m\u001b[38;5;241;43m=\u001b[39;49m\u001b[43mstream\u001b[49m\u001b[43m,\u001b[49m\u001b[43m \u001b[49m\u001b[43mstream_cls\u001b[49m\u001b[38;5;241;43m=\u001b[39;49m\u001b[43mstream_cls\u001b[49m\u001b[43m)\u001b[49m)\n",
      "File \u001b[1;32md:\\Installed Programs\\miniconda3\\envs\\vidsage\\Lib\\site-packages\\openai\\_base_client.py:947\u001b[0m, in \u001b[0;36mSyncAPIClient.request\u001b[1;34m(self, cast_to, options, remaining_retries, stream, stream_cls)\u001b[0m\n\u001b[0;32m    944\u001b[0m \u001b[38;5;28;01melse\u001b[39;00m:\n\u001b[0;32m    945\u001b[0m     retries_taken \u001b[38;5;241m=\u001b[39m \u001b[38;5;241m0\u001b[39m\n\u001b[1;32m--> 947\u001b[0m \u001b[38;5;28;01mreturn\u001b[39;00m \u001b[38;5;28;43mself\u001b[39;49m\u001b[38;5;241;43m.\u001b[39;49m\u001b[43m_request\u001b[49m\u001b[43m(\u001b[49m\n\u001b[0;32m    948\u001b[0m \u001b[43m    \u001b[49m\u001b[43mcast_to\u001b[49m\u001b[38;5;241;43m=\u001b[39;49m\u001b[43mcast_to\u001b[49m\u001b[43m,\u001b[49m\n\u001b[0;32m    949\u001b[0m \u001b[43m    \u001b[49m\u001b[43moptions\u001b[49m\u001b[38;5;241;43m=\u001b[39;49m\u001b[43moptions\u001b[49m\u001b[43m,\u001b[49m\n\u001b[0;32m    950\u001b[0m \u001b[43m    \u001b[49m\u001b[43mstream\u001b[49m\u001b[38;5;241;43m=\u001b[39;49m\u001b[43mstream\u001b[49m\u001b[43m,\u001b[49m\n\u001b[0;32m    951\u001b[0m \u001b[43m    \u001b[49m\u001b[43mstream_cls\u001b[49m\u001b[38;5;241;43m=\u001b[39;49m\u001b[43mstream_cls\u001b[49m\u001b[43m,\u001b[49m\n\u001b[0;32m    952\u001b[0m \u001b[43m    \u001b[49m\u001b[43mretries_taken\u001b[49m\u001b[38;5;241;43m=\u001b[39;49m\u001b[43mretries_taken\u001b[49m\u001b[43m,\u001b[49m\n\u001b[0;32m    953\u001b[0m \u001b[43m\u001b[49m\u001b[43m)\u001b[49m\n",
      "File \u001b[1;32md:\\Installed Programs\\miniconda3\\envs\\vidsage\\Lib\\site-packages\\openai\\_base_client.py:1036\u001b[0m, in \u001b[0;36mSyncAPIClient._request\u001b[1;34m(self, cast_to, options, retries_taken, stream, stream_cls)\u001b[0m\n\u001b[0;32m   1034\u001b[0m \u001b[38;5;28;01mif\u001b[39;00m remaining_retries \u001b[38;5;241m>\u001b[39m \u001b[38;5;241m0\u001b[39m \u001b[38;5;129;01mand\u001b[39;00m \u001b[38;5;28mself\u001b[39m\u001b[38;5;241m.\u001b[39m_should_retry(err\u001b[38;5;241m.\u001b[39mresponse):\n\u001b[0;32m   1035\u001b[0m     err\u001b[38;5;241m.\u001b[39mresponse\u001b[38;5;241m.\u001b[39mclose()\n\u001b[1;32m-> 1036\u001b[0m     \u001b[38;5;28;01mreturn\u001b[39;00m \u001b[38;5;28;43mself\u001b[39;49m\u001b[38;5;241;43m.\u001b[39;49m\u001b[43m_retry_request\u001b[49m\u001b[43m(\u001b[49m\n\u001b[0;32m   1037\u001b[0m \u001b[43m        \u001b[49m\u001b[43minput_options\u001b[49m\u001b[43m,\u001b[49m\n\u001b[0;32m   1038\u001b[0m \u001b[43m        \u001b[49m\u001b[43mcast_to\u001b[49m\u001b[43m,\u001b[49m\n\u001b[0;32m   1039\u001b[0m \u001b[43m        \u001b[49m\u001b[43mretries_taken\u001b[49m\u001b[38;5;241;43m=\u001b[39;49m\u001b[43mretries_taken\u001b[49m\u001b[43m,\u001b[49m\n\u001b[0;32m   1040\u001b[0m \u001b[43m        \u001b[49m\u001b[43mresponse_headers\u001b[49m\u001b[38;5;241;43m=\u001b[39;49m\u001b[43merr\u001b[49m\u001b[38;5;241;43m.\u001b[39;49m\u001b[43mresponse\u001b[49m\u001b[38;5;241;43m.\u001b[39;49m\u001b[43mheaders\u001b[49m\u001b[43m,\u001b[49m\n\u001b[0;32m   1041\u001b[0m \u001b[43m        \u001b[49m\u001b[43mstream\u001b[49m\u001b[38;5;241;43m=\u001b[39;49m\u001b[43mstream\u001b[49m\u001b[43m,\u001b[49m\n\u001b[0;32m   1042\u001b[0m \u001b[43m        \u001b[49m\u001b[43mstream_cls\u001b[49m\u001b[38;5;241;43m=\u001b[39;49m\u001b[43mstream_cls\u001b[49m\u001b[43m,\u001b[49m\n\u001b[0;32m   1043\u001b[0m \u001b[43m    \u001b[49m\u001b[43m)\u001b[49m\n\u001b[0;32m   1045\u001b[0m \u001b[38;5;66;03m# If the response is streamed then we need to explicitly read the response\u001b[39;00m\n\u001b[0;32m   1046\u001b[0m \u001b[38;5;66;03m# to completion before attempting to access the response text.\u001b[39;00m\n\u001b[0;32m   1047\u001b[0m \u001b[38;5;28;01mif\u001b[39;00m \u001b[38;5;129;01mnot\u001b[39;00m err\u001b[38;5;241m.\u001b[39mresponse\u001b[38;5;241m.\u001b[39mis_closed:\n",
      "File \u001b[1;32md:\\Installed Programs\\miniconda3\\envs\\vidsage\\Lib\\site-packages\\openai\\_base_client.py:1085\u001b[0m, in \u001b[0;36mSyncAPIClient._retry_request\u001b[1;34m(self, options, cast_to, retries_taken, response_headers, stream, stream_cls)\u001b[0m\n\u001b[0;32m   1081\u001b[0m \u001b[38;5;66;03m# In a synchronous context we are blocking the entire thread. Up to the library user to run the client in a\u001b[39;00m\n\u001b[0;32m   1082\u001b[0m \u001b[38;5;66;03m# different thread if necessary.\u001b[39;00m\n\u001b[0;32m   1083\u001b[0m time\u001b[38;5;241m.\u001b[39msleep(timeout)\n\u001b[1;32m-> 1085\u001b[0m \u001b[38;5;28;01mreturn\u001b[39;00m \u001b[38;5;28;43mself\u001b[39;49m\u001b[38;5;241;43m.\u001b[39;49m\u001b[43m_request\u001b[49m\u001b[43m(\u001b[49m\n\u001b[0;32m   1086\u001b[0m \u001b[43m    \u001b[49m\u001b[43moptions\u001b[49m\u001b[38;5;241;43m=\u001b[39;49m\u001b[43moptions\u001b[49m\u001b[43m,\u001b[49m\n\u001b[0;32m   1087\u001b[0m \u001b[43m    \u001b[49m\u001b[43mcast_to\u001b[49m\u001b[38;5;241;43m=\u001b[39;49m\u001b[43mcast_to\u001b[49m\u001b[43m,\u001b[49m\n\u001b[0;32m   1088\u001b[0m \u001b[43m    \u001b[49m\u001b[43mretries_taken\u001b[49m\u001b[38;5;241;43m=\u001b[39;49m\u001b[43mretries_taken\u001b[49m\u001b[43m \u001b[49m\u001b[38;5;241;43m+\u001b[39;49m\u001b[43m \u001b[49m\u001b[38;5;241;43m1\u001b[39;49m\u001b[43m,\u001b[49m\n\u001b[0;32m   1089\u001b[0m \u001b[43m    \u001b[49m\u001b[43mstream\u001b[49m\u001b[38;5;241;43m=\u001b[39;49m\u001b[43mstream\u001b[49m\u001b[43m,\u001b[49m\n\u001b[0;32m   1090\u001b[0m \u001b[43m    \u001b[49m\u001b[43mstream_cls\u001b[49m\u001b[38;5;241;43m=\u001b[39;49m\u001b[43mstream_cls\u001b[49m\u001b[43m,\u001b[49m\n\u001b[0;32m   1091\u001b[0m \u001b[43m\u001b[49m\u001b[43m)\u001b[49m\n",
      "File \u001b[1;32md:\\Installed Programs\\miniconda3\\envs\\vidsage\\Lib\\site-packages\\openai\\_base_client.py:1036\u001b[0m, in \u001b[0;36mSyncAPIClient._request\u001b[1;34m(self, cast_to, options, retries_taken, stream, stream_cls)\u001b[0m\n\u001b[0;32m   1034\u001b[0m \u001b[38;5;28;01mif\u001b[39;00m remaining_retries \u001b[38;5;241m>\u001b[39m \u001b[38;5;241m0\u001b[39m \u001b[38;5;129;01mand\u001b[39;00m \u001b[38;5;28mself\u001b[39m\u001b[38;5;241m.\u001b[39m_should_retry(err\u001b[38;5;241m.\u001b[39mresponse):\n\u001b[0;32m   1035\u001b[0m     err\u001b[38;5;241m.\u001b[39mresponse\u001b[38;5;241m.\u001b[39mclose()\n\u001b[1;32m-> 1036\u001b[0m     \u001b[38;5;28;01mreturn\u001b[39;00m \u001b[38;5;28;43mself\u001b[39;49m\u001b[38;5;241;43m.\u001b[39;49m\u001b[43m_retry_request\u001b[49m\u001b[43m(\u001b[49m\n\u001b[0;32m   1037\u001b[0m \u001b[43m        \u001b[49m\u001b[43minput_options\u001b[49m\u001b[43m,\u001b[49m\n\u001b[0;32m   1038\u001b[0m \u001b[43m        \u001b[49m\u001b[43mcast_to\u001b[49m\u001b[43m,\u001b[49m\n\u001b[0;32m   1039\u001b[0m \u001b[43m        \u001b[49m\u001b[43mretries_taken\u001b[49m\u001b[38;5;241;43m=\u001b[39;49m\u001b[43mretries_taken\u001b[49m\u001b[43m,\u001b[49m\n\u001b[0;32m   1040\u001b[0m \u001b[43m        \u001b[49m\u001b[43mresponse_headers\u001b[49m\u001b[38;5;241;43m=\u001b[39;49m\u001b[43merr\u001b[49m\u001b[38;5;241;43m.\u001b[39;49m\u001b[43mresponse\u001b[49m\u001b[38;5;241;43m.\u001b[39;49m\u001b[43mheaders\u001b[49m\u001b[43m,\u001b[49m\n\u001b[0;32m   1041\u001b[0m \u001b[43m        \u001b[49m\u001b[43mstream\u001b[49m\u001b[38;5;241;43m=\u001b[39;49m\u001b[43mstream\u001b[49m\u001b[43m,\u001b[49m\n\u001b[0;32m   1042\u001b[0m \u001b[43m        \u001b[49m\u001b[43mstream_cls\u001b[49m\u001b[38;5;241;43m=\u001b[39;49m\u001b[43mstream_cls\u001b[49m\u001b[43m,\u001b[49m\n\u001b[0;32m   1043\u001b[0m \u001b[43m    \u001b[49m\u001b[43m)\u001b[49m\n\u001b[0;32m   1045\u001b[0m \u001b[38;5;66;03m# If the response is streamed then we need to explicitly read the response\u001b[39;00m\n\u001b[0;32m   1046\u001b[0m \u001b[38;5;66;03m# to completion before attempting to access the response text.\u001b[39;00m\n\u001b[0;32m   1047\u001b[0m \u001b[38;5;28;01mif\u001b[39;00m \u001b[38;5;129;01mnot\u001b[39;00m err\u001b[38;5;241m.\u001b[39mresponse\u001b[38;5;241m.\u001b[39mis_closed:\n",
      "File \u001b[1;32md:\\Installed Programs\\miniconda3\\envs\\vidsage\\Lib\\site-packages\\openai\\_base_client.py:1085\u001b[0m, in \u001b[0;36mSyncAPIClient._retry_request\u001b[1;34m(self, options, cast_to, retries_taken, response_headers, stream, stream_cls)\u001b[0m\n\u001b[0;32m   1081\u001b[0m \u001b[38;5;66;03m# In a synchronous context we are blocking the entire thread. Up to the library user to run the client in a\u001b[39;00m\n\u001b[0;32m   1082\u001b[0m \u001b[38;5;66;03m# different thread if necessary.\u001b[39;00m\n\u001b[0;32m   1083\u001b[0m time\u001b[38;5;241m.\u001b[39msleep(timeout)\n\u001b[1;32m-> 1085\u001b[0m \u001b[38;5;28;01mreturn\u001b[39;00m \u001b[38;5;28;43mself\u001b[39;49m\u001b[38;5;241;43m.\u001b[39;49m\u001b[43m_request\u001b[49m\u001b[43m(\u001b[49m\n\u001b[0;32m   1086\u001b[0m \u001b[43m    \u001b[49m\u001b[43moptions\u001b[49m\u001b[38;5;241;43m=\u001b[39;49m\u001b[43moptions\u001b[49m\u001b[43m,\u001b[49m\n\u001b[0;32m   1087\u001b[0m \u001b[43m    \u001b[49m\u001b[43mcast_to\u001b[49m\u001b[38;5;241;43m=\u001b[39;49m\u001b[43mcast_to\u001b[49m\u001b[43m,\u001b[49m\n\u001b[0;32m   1088\u001b[0m \u001b[43m    \u001b[49m\u001b[43mretries_taken\u001b[49m\u001b[38;5;241;43m=\u001b[39;49m\u001b[43mretries_taken\u001b[49m\u001b[43m \u001b[49m\u001b[38;5;241;43m+\u001b[39;49m\u001b[43m \u001b[49m\u001b[38;5;241;43m1\u001b[39;49m\u001b[43m,\u001b[49m\n\u001b[0;32m   1089\u001b[0m \u001b[43m    \u001b[49m\u001b[43mstream\u001b[49m\u001b[38;5;241;43m=\u001b[39;49m\u001b[43mstream\u001b[49m\u001b[43m,\u001b[49m\n\u001b[0;32m   1090\u001b[0m \u001b[43m    \u001b[49m\u001b[43mstream_cls\u001b[49m\u001b[38;5;241;43m=\u001b[39;49m\u001b[43mstream_cls\u001b[49m\u001b[43m,\u001b[49m\n\u001b[0;32m   1091\u001b[0m \u001b[43m\u001b[49m\u001b[43m)\u001b[49m\n",
      "File \u001b[1;32md:\\Installed Programs\\miniconda3\\envs\\vidsage\\Lib\\site-packages\\openai\\_base_client.py:1051\u001b[0m, in \u001b[0;36mSyncAPIClient._request\u001b[1;34m(self, cast_to, options, retries_taken, stream, stream_cls)\u001b[0m\n\u001b[0;32m   1048\u001b[0m         err\u001b[38;5;241m.\u001b[39mresponse\u001b[38;5;241m.\u001b[39mread()\n\u001b[0;32m   1050\u001b[0m     log\u001b[38;5;241m.\u001b[39mdebug(\u001b[38;5;124m\"\u001b[39m\u001b[38;5;124mRe-raising status error\u001b[39m\u001b[38;5;124m\"\u001b[39m)\n\u001b[1;32m-> 1051\u001b[0m     \u001b[38;5;28;01mraise\u001b[39;00m \u001b[38;5;28mself\u001b[39m\u001b[38;5;241m.\u001b[39m_make_status_error_from_response(err\u001b[38;5;241m.\u001b[39mresponse) \u001b[38;5;28;01mfrom\u001b[39;00m \u001b[38;5;28;01mNone\u001b[39;00m\n\u001b[0;32m   1053\u001b[0m \u001b[38;5;28;01mreturn\u001b[39;00m \u001b[38;5;28mself\u001b[39m\u001b[38;5;241m.\u001b[39m_process_response(\n\u001b[0;32m   1054\u001b[0m     cast_to\u001b[38;5;241m=\u001b[39mcast_to,\n\u001b[0;32m   1055\u001b[0m     options\u001b[38;5;241m=\u001b[39moptions,\n\u001b[1;32m   (...)\u001b[0m\n\u001b[0;32m   1059\u001b[0m     retries_taken\u001b[38;5;241m=\u001b[39mretries_taken,\n\u001b[0;32m   1060\u001b[0m )\n",
      "\u001b[1;31mInternalServerError\u001b[0m: Error code: 500 - {'error': {'message': 'model requires more system memory (3.3 GiB) than is available (1.6 GiB)', 'type': 'api_error', 'param': None, 'code': None}}"
     ]
    }
   ],
   "source": [
    "# test run the text search rag\n",
    "rag(query)"
   ]
  }
 ],
 "metadata": {
  "kernelspec": {
   "display_name": "vidsage",
   "language": "python",
   "name": "python3"
  },
  "language_info": {
   "codemirror_mode": {
    "name": "ipython",
    "version": 3
   },
   "file_extension": ".py",
   "mimetype": "text/x-python",
   "name": "python",
   "nbconvert_exporter": "python",
   "pygments_lexer": "ipython3",
   "version": "3.11.9"
  }
 },
 "nbformat": 4,
 "nbformat_minor": 2
}
